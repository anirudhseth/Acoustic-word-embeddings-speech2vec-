{
 "cells": [
  {
   "cell_type": "code",
   "execution_count": 1,
   "metadata": {},
   "outputs": [],
   "source": [
    "import tensorflow as tf"
   ]
  },
  {
   "cell_type": "code",
   "execution_count": 2,
   "metadata": {},
   "outputs": [],
   "source": [
    "embeddingDim=10\n",
    "timesteps = 400\n",
    "n_features = 13"
   ]
  },
  {
   "cell_type": "code",
   "execution_count": 1,
   "metadata": {},
   "outputs": [],
   "source": [
    "import torch\n",
    "import numpy as np\n",
    "from sklearn.preprocessing import normalize\n",
    "mfcc = torch.load('Mfcc_feature.pt')\n",
    "input=[]\n",
    "for m in mfcc['mfcc']:\n",
    "    norm=normalize(m,axis=1)\n",
    "    input.append(norm)\n",
    "input=np.asarray(input)"
   ]
  },
  {
   "cell_type": "code",
   "execution_count": 2,
   "metadata": {},
   "outputs": [
    {
     "output_type": "execute_result",
     "data": {
      "text/plain": "array([[-0.12980245, -0.12573491, -0.12521198, ...,  0.        ,\n         0.        ,  0.        ],\n       [ 0.11731661,  0.1212649 ,  0.10478529, ...,  0.        ,\n         0.        ,  0.        ],\n       [-0.08643715, -0.13956639, -0.20739576, ...,  0.        ,\n         0.        ,  0.        ],\n       ...,\n       [ 0.11333494,  0.14409438,  0.13704   , ...,  0.        ,\n         0.        ,  0.        ],\n       [-0.24039865, -0.1703669 , -0.28510848, ...,  0.        ,\n         0.        ,  0.        ],\n       [ 0.39868754,  0.277865  ,  0.12962921, ...,  0.        ,\n         0.        ,  0.        ]], dtype=float32)"
     },
     "metadata": {},
     "execution_count": 2
    }
   ],
   "source": [
    "input[0]"
   ]
  },
  {
   "cell_type": "code",
   "execution_count": 4,
   "metadata": {},
   "outputs": [
    {
     "output_type": "execute_result",
     "data": {
      "text/plain": "(20, 400, 13)"
     },
     "metadata": {},
     "execution_count": 4
    }
   ],
   "source": [
    "input=input.transpose(0,2,1)\n",
    "input.shape\n",
    "\n"
   ]
  },
  {
   "cell_type": "code",
   "execution_count": 5,
   "metadata": {},
   "outputs": [],
   "source": [
    "test=input[3:5,:,:]"
   ]
  },
  {
   "cell_type": "code",
   "execution_count": 6,
   "metadata": {},
   "outputs": [
    {
     "output_type": "execute_result",
     "data": {
      "text/plain": "(2, 400, 13)"
     },
     "metadata": {},
     "execution_count": 6
    }
   ],
   "source": [
    "test.shape"
   ]
  },
  {
   "cell_type": "code",
   "execution_count": 8,
   "metadata": {},
   "outputs": [],
   "source": [
    "train_ds = tf.data.Dataset.from_tensor_slices(\n",
    "    (input, input)).shuffle(10000).batch(32)\n",
    "\n",
    "test_ds = tf.data.Dataset.from_tensor_slices((test, test)).batch(32)"
   ]
  },
  {
   "cell_type": "code",
   "execution_count": 16,
   "metadata": {},
   "outputs": [],
   "source": [
    "model_tf = tf.keras.models.Sequential([\n",
    "    tf.keras.layers.Bidirectional(tf.keras.layers.LSTM(units=embeddingDim,input_shape=(timesteps,n_features),return_sequences=False)),\n",
    "    tf.keras.layers.RepeatVector(timesteps),\n",
    "    tf.keras.layers.LSTM(embeddingDim,activation='relu',return_sequences=True),\n",
    "    tf.keras.layers.TimeDistributed(tf.keras.layers.Dense(n_features))\n",
    "    ])"
   ]
  },
  {
   "cell_type": "code",
   "execution_count": 17,
   "metadata": {},
   "outputs": [],
   "source": [
    "model_tf.compile(optimizer='adam',\n",
    "              loss=tf.losses.mean_squared_error,\n",
    "              metrics=['accuracy'])"
   ]
  },
  {
   "cell_type": "code",
   "execution_count": 18,
   "metadata": {},
   "outputs": [
    {
     "output_type": "stream",
     "name": "stdout",
     "text": "Epoch 1/10\n20/20 [==============================] - 6s 315ms/sample - loss: 0.0037 - acc: 0.0956\nEpoch 2/10\n20/20 [==============================] - 1s 37ms/sample - loss: 0.0035 - acc: 0.0944\nEpoch 3/10\n20/20 [==============================] - 1s 35ms/sample - loss: 0.0034 - acc: 0.0944\nEpoch 4/10\n20/20 [==============================] - 1s 38ms/sample - loss: 0.0032 - acc: 0.0944\nEpoch 5/10\n20/20 [==============================] - 1s 36ms/sample - loss: 0.0031 - acc: 0.0943\nEpoch 6/10\n20/20 [==============================] - 1s 35ms/sample - loss: 0.0030 - acc: 0.0468\nEpoch 7/10\n20/20 [==============================] - 1s 34ms/sample - loss: 0.0029 - acc: 0.0456\nEpoch 8/10\n20/20 [==============================] - 1s 35ms/sample - loss: 0.0029 - acc: 0.0452\nEpoch 9/10\n20/20 [==============================] - 1s 39ms/sample - loss: 0.0028 - acc: 0.0452\nEpoch 10/10\n20/20 [==============================] - 1s 39ms/sample - loss: 0.0028 - acc: 0.0049\n"
    },
    {
     "output_type": "execute_result",
     "data": {
      "text/plain": "<tensorflow.python.keras.callbacks.History at 0x7ffde3d43080>"
     },
     "metadata": {},
     "execution_count": 18
    }
   ],
   "source": [
    "model_tf.fit(input,input,epochs=10)"
   ]
  },
  {
   "cell_type": "code",
   "execution_count": null,
   "metadata": {},
   "outputs": [],
   "source": []
  }
 ],
 "metadata": {
  "language_info": {
   "codemirror_mode": {
    "name": "ipython",
    "version": 3
   },
   "file_extension": ".py",
   "mimetype": "text/x-python",
   "name": "python",
   "nbconvert_exporter": "python",
   "pygments_lexer": "ipython3",
   "version": "3.6.9-final"
  },
  "orig_nbformat": 2,
  "kernelspec": {
   "name": "python36964bit4dfc7929655c4c7cbc725bd732c1ed4a",
   "display_name": "Python 3.6.9 64-bit"
  }
 },
 "nbformat": 4,
 "nbformat_minor": 2
}