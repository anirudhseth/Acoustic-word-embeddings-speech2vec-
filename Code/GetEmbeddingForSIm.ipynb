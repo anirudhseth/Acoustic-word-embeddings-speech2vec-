{
 "cells": [
  {
   "cell_type": "code",
   "execution_count": 3,
   "metadata": {},
   "outputs": [],
   "source": [
    "import numpy as np\n",
    "import torch\n",
    "import tensorflow as tf\n",
    "import pandas as pd\n",
    "from tqdm import tqdm"
   ]
  },
  {
   "cell_type": "code",
   "execution_count": 9,
   "metadata": {},
   "outputs": [
    {
     "output_type": "error",
     "ename": "SyntaxError",
     "evalue": "(unicode error) 'unicodeescape' codec can't decode bytes in position 3-4: truncated \\UXXXXXXXX escape (<ipython-input-9-f92abed22d60>, line 1)",
     "traceback": [
      "\u001b[0;36m  File \u001b[0;32m\"<ipython-input-9-f92abed22d60>\"\u001b[0;36m, line \u001b[0;32m1\u001b[0m\n\u001b[0;31m    Model=model=tf.keras.models.load_model('\\C:\\Users\\anirudh\\Desktop\\Model10 SG\\Model10_sg')\u001b[0m\n\u001b[0m                                          ^\u001b[0m\n\u001b[0;31mSyntaxError\u001b[0m\u001b[0;31m:\u001b[0m (unicode error) 'unicodeescape' codec can't decode bytes in position 3-4: truncated \\UXXXXXXXX escape\n"
     ]
    }
   ],
   "source": [
    "Model=model=tf.keras.models.load_model('\\C:\\Users\\anirudh\\Desktop\\Model10 SG\\Model10_sg')\n",
    "EmbeddingSize=10"
   ]
  },
  {
   "cell_type": "code",
   "execution_count": 27,
   "metadata": {},
   "outputs": [],
   "source": [
    "Data=torch.load('ws353_mfcc_features_154.pt')"
   ]
  },
  {
   "cell_type": "code",
   "execution_count": 24,
   "metadata": {},
   "outputs": [],
   "source": [
    "words353_filename = 'wordsim353_agreed.txt'\n",
    "cname = ['desc','word1','word2','extra']\n",
    "df = pd.read_csv(words353_filename, skiprows=11, sep='\\t', names = cname )\n",
    " \n",
    "column_values = df[[\"word1\", \"word2\"]].values.ravel()\n",
    "words_req =  pd.unique(column_values)"
   ]
  },
  {
   "cell_type": "code",
   "execution_count": 26,
   "metadata": {},
   "outputs": [
    {
     "output_type": "execute_result",
     "data": {
      "text/plain": "437"
     },
     "metadata": {},
     "execution_count": 26
    }
   ],
   "source": [
    "len(words_req)"
   ]
  },
  {
   "cell_type": "code",
   "execution_count": 6,
   "metadata": {},
   "outputs": [
    {
     "output_type": "stream",
     "name": "stdout",
     "text": "Model: \"sequential\"\n_________________________________________________________________\nLayer (type)                 Output Shape              Param #   \n=================================================================\nbidirectional (Bidirectional (None, 20)                1920      \n_________________________________________________________________\nrepeat_vector (RepeatVector) (None, 154, 20)           0         \n_________________________________________________________________\nlstm_1 (LSTM)                (None, 154, 10)           1240      \n_________________________________________________________________\ntime_distributed (TimeDistri (None, None, 13)          143       \n=================================================================\nTotal params: 3,303\nTrainable params: 3,303\nNon-trainable params: 0\n_________________________________________________________________\n"
    }
   ],
   "source": [
    "Model.summary()"
   ]
  },
  {
   "cell_type": "code",
   "execution_count": 9,
   "metadata": {},
   "outputs": [
    {
     "output_type": "stream",
     "name": "stdout",
     "text": "Model: \"model\"\n_________________________________________________________________\nLayer (type)                 Output Shape              Param #   \n=================================================================\nbidirectional_input (InputLa [(None, 154, 13)]         0         \n_________________________________________________________________\nbidirectional (Bidirectional (None, 20)                1920      \n=================================================================\nTotal params: 1,920\nTrainable params: 1,920\nNon-trainable params: 0\n_________________________________________________________________\n"
    }
   ],
   "source": [
    "modelEnc = tf.keras.Model(inputs=model.inputs, outputs=model.layers[0].output)\n",
    "modelEnc.summary()"
   ]
  },
  {
   "cell_type": "code",
   "execution_count": 36,
   "metadata": {},
   "outputs": [
    {
     "output_type": "execute_result",
     "data": {
      "text/plain": "(13, 154)"
     },
     "metadata": {},
     "execution_count": 36
    }
   ],
   "source": [
    "Data['LOVE'][1].shape"
   ]
  },
  {
   "cell_type": "code",
   "execution_count": null,
   "metadata": {},
   "outputs": [],
   "source": []
  },
  {
   "cell_type": "code",
   "execution_count": 48,
   "metadata": {},
   "outputs": [
    {
     "output_type": "execute_result",
     "data": {
      "text/plain": "(154, 13)"
     },
     "metadata": {},
     "execution_count": 48
    }
   ],
   "source": [
    "Data['LOVE'][0].T.shape"
   ]
  },
  {
   "cell_type": "code",
   "execution_count": 62,
   "metadata": {},
   "outputs": [
    {
     "output_type": "execute_result",
     "data": {
      "text/plain": "(10,)"
     },
     "metadata": {},
     "execution_count": 62
    }
   ],
   "source": [
    "modelEnc.predict(Data['LOVE'][0].T[np.newaxis, :])[0][0:EmbeddingSize]"
   ]
  },
  {
   "cell_type": "code",
   "execution_count": null,
   "metadata": {
    "tags": [
     "outputPrepend",
     "outputPrepend",
     "outputPrepend"
    ]
   },
   "outputs": [],
   "source": [
    "Emb={}\n",
    "for word in Data:\n",
    "    # print(word)\n",
    "    Embedding=np.zeros(EmbeddingSize)\n",
    "    # print('total mfcc:',len(Data[word]))\n",
    "    if(len(Data[word])!=0):\n",
    "        for i in range(len(Data[word])):\n",
    "            mfcc=Data[word][i].T\n",
    "            # print(modelEnc.predict(mfcc[np.newaxis, :])[0][0:EmbeddingSize])\n",
    "            Embedding+=modelEnc.predict(mfcc[np.newaxis, :])[0][0:EmbeddingSize]\n",
    "        Embedding=Embedding/len(Data[word])\n",
    "    Emb[word]=Embedding\n"
   ]
  },
  {
   "cell_type": "code",
   "execution_count": null,
   "metadata": {},
   "outputs": [],
   "source": []
  }
 ],
 "metadata": {
  "language_info": {
   "codemirror_mode": {
    "name": "ipython",
    "version": 3
   },
   "file_extension": ".py",
   "mimetype": "text/x-python",
   "name": "python",
   "nbconvert_exporter": "python",
   "pygments_lexer": "ipython3",
   "version": "3.6.9-final"
  },
  "orig_nbformat": 2,
  "kernelspec": {
   "name": "python36964bit4dfc7929655c4c7cbc725bd732c1ed4a",
   "display_name": "Python 3.6.9 64-bit"
  }
 },
 "nbformat": 4,
 "nbformat_minor": 2
}