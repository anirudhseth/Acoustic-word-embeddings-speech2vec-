{
 "cells": [
  {
   "cell_type": "code",
   "execution_count": 1,
   "metadata": {},
   "outputs": [],
   "source": [
    "import numpy as np"
   ]
  },
  {
   "cell_type": "code",
   "execution_count": 2,
   "metadata": {},
   "outputs": [],
   "source": [
    "Data=np.load('dev_clean.npy',allow_pickle=True)"
   ]
  },
  {
   "cell_type": "code",
   "execution_count": null,
   "metadata": {},
   "outputs": [],
   "source": []
  },
  {
   "cell_type": "code",
   "execution_count": 3,
   "metadata": {},
   "outputs": [],
   "source": [
    "Sentences=[]\n",
    "for i in range(Data.shape[0]):\n",
    "    if i==0:\n",
    "        Sentences=Data[i]['texts']\n",
    "    else:\n",
    "        Sentences.append(Data[i]['texts'])"
   ]
  },
  {
   "cell_type": "code",
   "execution_count": 4,
   "metadata": {},
   "outputs": [
    {
     "output_type": "execute_result",
     "data": {
      "text/plain": "2719"
     },
     "metadata": {},
     "execution_count": 4
    }
   ],
   "source": [
    "len(Sentences)"
   ]
  },
  {
   "cell_type": "code",
   "execution_count": 6,
   "metadata": {},
   "outputs": [
    {
     "output_type": "stream",
     "name": "stdout",
     "text": "Collecting gensimNote: you may need to restart the kernel to use updated packages.\n  Downloading gensim-3.8.3-cp37-cp37m-win_amd64.whl (24.2 MB)\nRequirement already satisfied: numpy>=1.11.3 in c:\\users\\anirudh\\appdata\\local\\programs\\python\\python37\\lib\\site-packages (from gensim) (1.18.1)\nCollecting smart-open>=1.8.1\n\n  Downloading smart_open-2.0.0.tar.gz (103 kB)\n  WARNING: The scripts cygdb.exe, cython.exe and cythonize.exe are installed in 'C:\\Users\\anirudh\\AppData\\Local\\Programs\\Python\\Python37\\Scripts' which is not on PATH.\n  Consider adding this directory to PATH or, if you prefer to suppress this warning, use --no-warn-script-location.\nCollecting Cython==0.29.14\n  Downloading Cython-0.29.14-cp37-cp37m-win_amd64.whl (1.7 MB)\nRequirement already satisfied: six>=1.5.0 in c:\\users\\anirudh\\appdata\\local\\programs\\python\\python37\\lib\\site-packages (from gensim) (1.14.0)\nRequirement already satisfied: scipy>=0.18.1 in c:\\users\\anirudh\\appdata\\local\\programs\\python\\python37\\lib\\site-packages (from gensim) (1.4.1)\nRequirement already satisfied: requests in c:\\users\\anirudh\\appdata\\local\\programs\\python\\python37\\lib\\site-packages (from smart-open>=1.8.1->gensim) (2.23.0)\nCollecting boto\n  Downloading boto-2.49.0-py2.py3-none-any.whl (1.4 MB)\nCollecting boto3\n  Downloading boto3-1.13.13-py2.py3-none-any.whl (128 kB)\nRequirement already satisfied: urllib3!=1.25.0,!=1.25.1,<1.26,>=1.21.1 in c:\\users\\anirudh\\appdata\\local\\programs\\python\\python37\\lib\\site-packages (from requests->smart-open>=1.8.1->gensim) (1.25.8)\nRequirement already satisfied: idna<3,>=2.5 in c:\\users\\anirudh\\appdata\\local\\programs\\python\\python37\\lib\\site-packages (from requests->smart-open>=1.8.1->gensim) (2.9)\nRequirement already satisfied: certifi>=2017.4.17 in c:\\users\\anirudh\\appdata\\local\\programs\\python\\python37\\lib\\site-packages (from requests->smart-open>=1.8.1->gensim) (2019.11.28)\nRequirement already satisfied: chardet<4,>=3.0.2 in c:\\users\\anirudh\\appdata\\local\\programs\\python\\python37\\lib\\site-packages (from requests->smart-open>=1.8.1->gensim) (3.0.4)\nCollecting jmespath<1.0.0,>=0.7.1\n  Downloading jmespath-0.10.0-py2.py3-none-any.whl (24 kB)\nCollecting botocore<1.17.0,>=1.16.13\n  Downloading botocore-1.16.13-py2.py3-none-any.whl (6.2 MB)\nCollecting s3transfer<0.4.0,>=0.3.0\n  Downloading s3transfer-0.3.3-py2.py3-none-any.whl (69 kB)\nRequirement already satisfied: python-dateutil<3.0.0,>=2.1 in c:\\users\\anirudh\\appdata\\local\\programs\\python\\python37\\lib\\site-packages (from botocore<1.17.0,>=1.16.13->boto3->smart-open>=1.8.1->gensim) (2.8.1)\nCollecting docutils<0.16,>=0.10\n  Downloading docutils-0.15.2-py3-none-any.whl (547 kB)\nBuilding wheels for collected packages: smart-open\n  Building wheel for smart-open (setup.py): started\n  Building wheel for smart-open (setup.py): finished with status 'done'\n  Created wheel for smart-open: filename=smart_open-2.0.0-py3-none-any.whl size=101346 sha256=ae4a7b357e3785578faebd53557b209492484cc2a3f65328fac37707433152a5\n  Stored in directory: c:\\users\\anirudh\\appdata\\local\\pip\\cache\\wheels\\bb\\1c\\9c\\412ec03f6d5ac7d41f4b965bde3fc0d1bd201da5ba3e2636de\nSuccessfully built smart-open\nInstalling collected packages: boto, jmespath, docutils, botocore, s3transfer, boto3, smart-open, Cython, gensim\nSuccessfully installed Cython-0.29.14 boto-2.49.0 boto3-1.13.13 botocore-1.16.13 docutils-0.15.2 gensim-3.8.3 jmespath-0.10.0 s3transfer-0.3.3 smart-open-2.0.0\n"
    }
   ],
   "source": [
    "pip install gensim"
   ]
  },
  {
   "cell_type": "code",
   "execution_count": 7,
   "metadata": {},
   "outputs": [],
   "source": [
    "from gensim.models import Word2Vec"
   ]
  },
  {
   "cell_type": "code",
   "execution_count": 8,
   "metadata": {},
   "outputs": [
    {
     "output_type": "execute_result",
     "data": {
      "text/plain": "((0.08391254276868199, 0.5202532873606696),\n SpearmanrResult(correlation=-0.21873471293731606, pvalue=0.09034010608416852),\n 75.79365079365078)"
     },
     "metadata": {},
     "execution_count": 8
    }
   ],
   "source": [
    "elmodl = Word2Vec(sentences=Sentences,size=10,window=3,min_count=2,sg=1)\n",
    "# elmodl.wv.evaluate_word_pairs('wordsim353.tsv')\n",
    "elmodl.wv.evaluate_word_pairs('wordsim_relatedness_goldstandard.txt')\n",
    "# model_ted = Word2Vec(sentences=Sentences, size=10, window=3, min_count=5, workers=4, sg=0)"
   ]
  },
  {
   "cell_type": "code",
   "execution_count": 9,
   "metadata": {},
   "outputs": [
    {
     "output_type": "execute_result",
     "data": {
      "text/plain": "((0.10933449987421998, 0.40159138525031846),\n SpearmanrResult(correlation=-0.0697560653685493, pvalue=0.5932081953633013),\n 75.79365079365078)"
     },
     "metadata": {},
     "execution_count": 9
    }
   ],
   "source": [
    "elmodl2 = Word2Vec(sentences=Sentences,size=30,window=3,min_count=2,sg=1)\n",
    "elmodl2.wv.evaluate_word_pairs('wordsim_relatedness_goldstandard.txt')"
   ]
  },
  {
   "cell_type": "code",
   "execution_count": 10,
   "metadata": {},
   "outputs": [
    {
     "output_type": "execute_result",
     "data": {
      "text/plain": "((-0.1687338149675548, 0.19362392656447),\n SpearmanrResult(correlation=-0.20916242496786389, pvalue=0.10571331423859792),\n 75.79365079365078)"
     },
     "metadata": {},
     "execution_count": 10
    }
   ],
   "source": [
    "elmodl3 = Word2Vec(sentences=Sentences,size=10,window=3,min_count=2,sg=0)\n",
    "elmodl3.wv.evaluate_word_pairs('wordsim_relatedness_goldstandard.txt')"
   ]
  },
  {
   "cell_type": "code",
   "execution_count": 11,
   "metadata": {},
   "outputs": [
    {
     "output_type": "execute_result",
     "data": {
      "text/plain": "((-0.12229207068412282, 0.34778084671807985),\n SpearmanrResult(correlation=-0.1572552391003649, pvalue=0.22614792595927036),\n 75.79365079365078)"
     },
     "metadata": {},
     "execution_count": 11
    }
   ],
   "source": [
    "elmodl4 = Word2Vec(sentences=Sentences,size=30,window=3,min_count=2,sg=0)\n",
    "elmodl4.wv.evaluate_word_pairs('wordsim_relatedness_goldstandard.txt')"
   ]
  },
  {
   "cell_type": "code",
   "execution_count": 12,
   "metadata": {},
   "outputs": [],
   "source": [
    "from gensim.models import FastText\n",
    "fstsg10 = FastText(sentences=Sentences, size=10, window=3, min_count=2,sg=0)\n",
    "fstsg30 = FastText(sentences=Sentences, size=30, window=3, min_count=2,sg=0)\n",
    "fstcb10 = FastText(sentences=Sentences, size=10, window=3, min_count=2,sg=1)\n",
    "fstcb30 = FastText(sentences=Sentences, size=30, window=3, min_count=2,sg=1)"
   ]
  },
  {
   "cell_type": "code",
   "execution_count": 13,
   "metadata": {},
   "outputs": [
    {
     "output_type": "execute_result",
     "data": {
      "text/plain": "((0.133729124592523, 0.30419719554998975),\n SpearmanrResult(correlation=-0.1395121307370986, pvalue=0.28356851503223096),\n 75.79365079365078)"
     },
     "metadata": {},
     "execution_count": 13
    }
   ],
   "source": [
    "fstsg10.wv.evaluate_word_pairs('wordsim_relatedness_goldstandard.txt')"
   ]
  },
  {
   "cell_type": "code",
   "execution_count": 14,
   "metadata": {},
   "outputs": [
    {
     "output_type": "execute_result",
     "data": {
      "text/plain": "((0.17041696189299155, 0.1891518402402719),\n SpearmanrResult(correlation=-0.08176217048102769, pvalue=0.5310380313618939),\n 75.79365079365078)"
     },
     "metadata": {},
     "execution_count": 14
    }
   ],
   "source": [
    "fstsg30.wv.evaluate_word_pairs('wordsim_relatedness_goldstandard.txt')"
   ]
  },
  {
   "cell_type": "code",
   "execution_count": 15,
   "metadata": {},
   "outputs": [
    {
     "output_type": "execute_result",
     "data": {
      "text/plain": "((0.14440491959922733, 0.26685352437174364),\n SpearmanrResult(correlation=0.22941759785350022, pvalue=0.07531437734265563),\n 75.79365079365078)"
     },
     "metadata": {},
     "execution_count": 15
    }
   ],
   "source": [
    "fstcb10.wv.evaluate_word_pairs('wordsim_relatedness_goldstandard.txt')"
   ]
  },
  {
   "cell_type": "code",
   "execution_count": 16,
   "metadata": {},
   "outputs": [
    {
     "output_type": "execute_result",
     "data": {
      "text/plain": "((0.1646617409477577, 0.20475501423701697),\n SpearmanrResult(correlation=0.23052819480023226, pvalue=0.07387382364512453),\n 75.79365079365078)"
     },
     "metadata": {},
     "execution_count": 16
    }
   ],
   "source": [
    "fstcb30.wv.evaluate_word_pairs('wordsim_relatedness_goldstandard.txt')"
   ]
  },
  {
   "cell_type": "code",
   "execution_count": null,
   "metadata": {},
   "outputs": [],
   "source": []
  }
 ],
 "metadata": {
  "language_info": {
   "codemirror_mode": {
    "name": "ipython",
    "version": 3
   },
   "file_extension": ".py",
   "mimetype": "text/x-python",
   "name": "python",
   "nbconvert_exporter": "python",
   "pygments_lexer": "ipython3",
   "version": "3.7.6-final"
  },
  "orig_nbformat": 2,
  "kernelspec": {
   "name": "python37664bitb225f4bd86994289a4055ad484dc0491",
   "display_name": "Python 3.7.6 64-bit"
  }
 },
 "nbformat": 4,
 "nbformat_minor": 2
}