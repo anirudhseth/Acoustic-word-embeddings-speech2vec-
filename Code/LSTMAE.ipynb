{
 "cells": [
  {
   "cell_type": "code",
   "execution_count": 20,
   "metadata": {},
   "outputs": [],
   "source": [
    "# lstm autoencoder to recreate a timeseries\n",
    "import numpy as np\n",
    "from keras.models import Sequential\n",
    "from keras.layers import LSTM,Bidirectional\n",
    "from keras.layers import Dense\n",
    "from keras.layers import RepeatVector\n",
    "from keras.layers import TimeDistributed\n",
    "'''\n",
    "A UDF to convert input data into 3-D\n",
    "array as required for LSTM network.\n",
    "'''\n",
    "\n",
    "def temporalize(X, y, lookback):\n",
    "    output_X = []\n",
    "    output_y = []\n",
    "    for i in range(len(X)-lookback-1):\n",
    "        t = []\n",
    "        for j in range(1,lookback+1):\n",
    "            # Gather past records upto the lookback period\n",
    "            t.append(X[[(i+j+1)], :])\n",
    "        output_X.append(t)\n",
    "        output_y.append(y[i+lookback+1])\n",
    "    return output_X, output_y"
   ]
  },
  {
   "cell_type": "code",
   "execution_count": 2,
   "metadata": {},
   "outputs": [],
   "source": [
    "timeseries = np.array([[0.1, 0.2, 0.3, 0.4, 0.5, 0.6, 0.7, 0.8, 0.9],\n",
    "                       [0.1**3, 0.2**3, 0.3**3, 0.4**3, 0.5**3, 0.6**3, 0.7**3, 0.8**3, 0.9**3]]).transpose()"
   ]
  },
  {
   "cell_type": "code",
   "execution_count": 3,
   "metadata": {},
   "outputs": [
    {
     "output_type": "execute_result",
     "data": {
      "text/plain": "array([[0.1  , 0.001],\n       [0.2  , 0.008],\n       [0.3  , 0.027],\n       [0.4  , 0.064],\n       [0.5  , 0.125],\n       [0.6  , 0.216],\n       [0.7  , 0.343],\n       [0.8  , 0.512],\n       [0.9  , 0.729]])"
     },
     "metadata": {},
     "execution_count": 3
    }
   ],
   "source": [
    "timeseries"
   ]
  },
  {
   "cell_type": "code",
   "execution_count": 4,
   "metadata": {},
   "outputs": [],
   "source": [
    "timesteps = timeseries.shape[0]\n",
    "n_features = timeseries.shape[1]"
   ]
  },
  {
   "cell_type": "code",
   "execution_count": 5,
   "metadata": {},
   "outputs": [],
   "source": [
    "timesteps = 3\n",
    "X, y = temporalize(X = timeseries, y = np.zeros(len(timeseries)), lookback = timesteps)"
   ]
  },
  {
   "cell_type": "code",
   "execution_count": 6,
   "metadata": {},
   "outputs": [],
   "source": [
    "timesteps = 3\n",
    "X, y = temporalize(X = timeseries, y = np.zeros(len(timeseries)), lookback = timesteps)\n",
    "\n",
    "n_features = 2\n",
    "X = np.array(X)\n",
    "X = X.reshape(X.shape[0], timesteps, n_features)\n",
    "\n"
   ]
  },
  {
   "cell_type": "code",
   "execution_count": 22,
   "metadata": {},
   "outputs": [],
   "source": [
    "model = Sequential()\n",
    "model.add(Bidirectional(LSTM(10, activation='relu', input_shape=(timesteps,n_features), return_sequences=False)))\n",
    "model.add(RepeatVector(timesteps))\n",
    "model.add(LSTM(10, activation='relu', return_sequences=True))\n",
    "model.add(TimeDistributed(Dense(n_features)))\n",
    "model.compile(optimizer='adam', loss='mse')\n",
    "# model.summary()"
   ]
  },
  {
   "cell_type": "code",
   "execution_count": 23,
   "metadata": {},
   "outputs": [
    {
     "output_type": "stream",
     "name": "stdout",
     "text": "---Predicted---\n[[[0.32  0.057]\n  [0.444 0.078]\n  [0.502 0.113]]\n\n [[0.371 0.083]\n  [0.516 0.133]\n  [0.582 0.193]]\n\n [[0.437 0.132]\n  [0.61  0.234]\n  [0.687 0.335]]\n\n [[0.527 0.217]\n  [0.73  0.381]\n  [0.803 0.502]]\n\n [[0.644 0.318]\n  [0.857 0.545]\n  [0.936 0.667]]]\n---Actual---\n[[[0.3   0.027]\n  [0.4   0.064]\n  [0.5   0.125]]\n\n [[0.4   0.064]\n  [0.5   0.125]\n  [0.6   0.216]]\n\n [[0.5   0.125]\n  [0.6   0.216]\n  [0.7   0.343]]\n\n [[0.6   0.216]\n  [0.7   0.343]\n  [0.8   0.512]]\n\n [[0.7   0.343]\n  [0.8   0.512]\n  [0.9   0.729]]]\n"
    }
   ],
   "source": [
    "# fit model\n",
    "model.fit(X, X, epochs=300, verbose=0)\n",
    "# demonstrate reconstruction\n",
    "yhat = model.predict(X, verbose=0)\n",
    "print('---Predicted---')\n",
    "print(np.round(yhat,3))\n",
    "print('---Actual---')\n",
    "print(np.round(X, 3))"
   ]
  },
  {
   "cell_type": "code",
   "execution_count": 24,
   "metadata": {},
   "outputs": [],
   "source": [
    "from keras.models import Model\n",
    "from keras.utils import plot_model\n",
    "modelEnc = Model(inputs=model.inputs, outputs=model.layers[0].output)"
   ]
  },
  {
   "cell_type": "code",
   "execution_count": 25,
   "metadata": {},
   "outputs": [
    {
     "output_type": "stream",
     "name": "stdout",
     "text": "(1, 20)\n[[0.28707868 0.         0.16373603 0.02692483 0.18916713 0.\n  0.24376826 0.02470064 0.1955162  0.         0.11040504 0.01515147\n  0.         0.         0.00112201 0.         0.06477787 0.20481361\n  0.08068737 0.        ]]\n"
    }
   ],
   "source": [
    "# plot_model(model, show_shapes=True, to_file='lstm_encoder.png')\n",
    "# get the feature vector for the input sequence\n",
    "yhat = modelEnc.predict(X[0][np.newaxis, :])\n",
    "print(yhat.shape)\n",
    "print(yhat)"
   ]
  },
  {
   "cell_type": "code",
   "execution_count": 26,
   "metadata": {},
   "outputs": [
    {
     "output_type": "stream",
     "name": "stdout",
     "text": "Model: \"sequential_7\"\n_________________________________________________________________\nLayer (type)                 Output Shape              Param #   \n=================================================================\nbidirectional_2 (Bidirection (None, 20)                1040      \n_________________________________________________________________\nrepeat_vector_6 (RepeatVecto (None, 3, 20)             0         \n_________________________________________________________________\nlstm_14 (LSTM)               (None, 3, 10)             1240      \n_________________________________________________________________\ntime_distributed_6 (TimeDist (None, 3, 2)              22        \n=================================================================\nTotal params: 2,302\nTrainable params: 2,302\nNon-trainable params: 0\n_________________________________________________________________\n"
    }
   ],
   "source": [
    "model.summary()"
   ]
  },
  {
   "cell_type": "code",
   "execution_count": null,
   "metadata": {},
   "outputs": [],
   "source": []
  }
 ],
 "metadata": {
  "language_info": {
   "codemirror_mode": {
    "name": "ipython",
    "version": 3
   },
   "file_extension": ".py",
   "mimetype": "text/x-python",
   "name": "python",
   "nbconvert_exporter": "python",
   "pygments_lexer": "ipython3",
   "version": "3.6.9-final"
  },
  "orig_nbformat": 2,
  "kernelspec": {
   "name": "python36964bit4dfc7929655c4c7cbc725bd732c1ed4a",
   "display_name": "Python 3.6.9 64-bit"
  }
 },
 "nbformat": 4,
 "nbformat_minor": 2
}