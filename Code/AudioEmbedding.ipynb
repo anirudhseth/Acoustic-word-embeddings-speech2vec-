{
 "cells": [
  {
   "cell_type": "code",
   "execution_count": 18,
   "metadata": {},
   "outputs": [],
   "source": [
    "import torchaudio\n",
    "\n",
    "train_dataset = torchaudio.datasets.LIBRISPEECH(\"./\", url=\"dev-clean\", download=False)\n",
    "test_dataset = torchaudio.datasets.LIBRISPEECH(\"./\", url=\"test-clean\", download=False)"
   ]
  },
  {
   "cell_type": "code",
   "execution_count": 19,
   "metadata": {},
   "outputs": [
    {
     "output_type": "execute_result",
     "data": {
      "text/plain": "(tensor([[0.0024, 0.0021, 0.0020,  ..., 0.0004, 0.0006, 0.0010]]),\n 16000,\n 'MISTER QUILTER IS THE APOSTLE OF THE MIDDLE CLASSES AND WE ARE GLAD TO WELCOME HIS GOSPEL',\n 1272,\n 128104,\n 0)"
     },
     "metadata": {},
     "execution_count": 19
    }
   ],
   "source": [
    "train_dataset[0]"
   ]
  },
  {
   "cell_type": "code",
   "execution_count": 127,
   "metadata": {},
   "outputs": [],
   "source": [
    "import torch.nn as nn\n",
    "import torch as torch\n",
    "\n",
    "\n",
    "mfcc_transform = torchaudio.transforms.MFCC(sample_rate=16000,n_mfcc=13)\n",
    "def data_processing(data,):\n",
    "    spectrograms = []\n",
    "    mfcc=[]\n",
    "    labels=[]\n",
    "    input_lengths = []\n",
    "    for (waveform, _,ll, _, _, _) in data:\n",
    "        mfcc.append(mfcc_transform(waveform).squeeze(0).transpose(0, 1))\n",
    "        labels.append(ll.lower())\n",
    "    mfcc = nn.utils.rnn.pad_sequence(mfcc, batch_first=True,zwe)\n",
    "    return mfcc,labels"
   ]
  },
  {
   "cell_type": "code",
   "execution_count": 128,
   "metadata": {},
   "outputs": [],
   "source": [
    "mfcc,text=data_processing(train_dataset)"
   ]
  },
  {
   "cell_type": "code",
   "execution_count": 130,
   "metadata": {},
   "outputs": [
    {
     "output_type": "execute_result",
     "data": {
      "text/plain": "2703"
     },
     "metadata": {},
     "execution_count": 130
    }
   ],
   "source": [
    "len(text)"
   ]
  },
  {
   "cell_type": "code",
   "execution_count": 131,
   "metadata": {},
   "outputs": [
    {
     "output_type": "execute_result",
     "data": {
      "text/plain": "torch.Size([2703, 2612, 13])"
     },
     "metadata": {},
     "execution_count": 131
    }
   ],
   "source": [
    "mfcc.shape"
   ]
  },
  {
   "cell_type": "code",
   "execution_count": 172,
   "metadata": {},
   "outputs": [],
   "source": [
    "torch.save(mfcc, 'Mfcc_features.pt')\n",
    "torch.save(text,'Labels.pt')\n",
    "# torch.load('Mfcc_features.pt')"
   ]
  },
  {
   "cell_type": "markdown",
   "metadata": {},
   "source": [
    "##  Working with word2vec and fastText"
   ]
  },
  {
   "cell_type": "code",
   "execution_count": 174,
   "metadata": {},
   "outputs": [],
   "source": [
    "import numpy as np\n",
    "import os\n",
    "from random import shuffle\n",
    "import re\n",
    "import urllib.request\n",
    "import zipfile\n",
    "import lxml.etree\n",
    "#download the data\n",
    "urllib.request.urlretrieve(\"https://wit3.fbk.eu/get.php?path=XML_releases/xml/ted_en-20160408.zip&filename=ted_en-20160408.zip\", filename=\"ted_en-20160408.zip\")\n",
    "# extract subtitle\n",
    "with zipfile.ZipFile('ted_en-20160408.zip', 'r') as z:\n",
    "    doc = lxml.etree.parse(z.open('ted_en-20160408.xml', 'r'))\n",
    "input_text = '\\n'.join(doc.xpath('//content/text()'))"
   ]
  },
  {
   "cell_type": "code",
   "execution_count": 177,
   "metadata": {},
   "outputs": [
    {
     "output_type": "execute_result",
     "data": {
      "text/plain": "\"Here are two reasons companies fail: they only do more of the same, or they only do what's new.\\nTo m\""
     },
     "metadata": {},
     "execution_count": 177
    }
   ],
   "source": [
    "input_text[0:100]"
   ]
  },
  {
   "cell_type": "code",
   "execution_count": 178,
   "metadata": {},
   "outputs": [],
   "source": [
    "# remove parenthesis \n",
    "input_text_noparens = re.sub(r'\\([^)]*\\)', '', input_text)\n",
    "# store as list of sentences\n",
    "sentences_strings_ted = []\n",
    "for line in input_text_noparens.split('\\n'):\n",
    "    m = re.match(r'^(?:(?P<precolon>[^:]{,20}):)?(?P<postcolon>.*)$', line)\n",
    "    sentences_strings_ted.extend(sent for sent in m.groupdict()['postcolon'].split('.') if sent)\n",
    "# store as list of lists of words\n",
    "sentences_ted = []\n",
    "for sent_str in sentences_strings_ted:\n",
    "    tokens = re.sub(r\"[^a-z0-9]+\", \" \", sent_str.lower()).split()\n",
    "    sentences_ted.append(tokens)"
   ]
  },
  {
   "cell_type": "code",
   "execution_count": 180,
   "metadata": {},
   "outputs": [
    {
     "output_type": "execute_result",
     "data": {
      "text/plain": "266694"
     },
     "metadata": {},
     "execution_count": 180
    }
   ],
   "source": [
    "len(sentences_ted)"
   ]
  },
  {
   "cell_type": "code",
   "execution_count": 181,
   "metadata": {},
   "outputs": [
    {
     "output_type": "execute_result",
     "data": {
      "text/plain": "['here',\n 'are',\n 'two',\n 'reasons',\n 'companies',\n 'fail',\n 'they',\n 'only',\n 'do',\n 'more',\n 'of',\n 'the',\n 'same',\n 'or',\n 'they',\n 'only',\n 'do',\n 'what',\n 's',\n 'new']"
     },
     "metadata": {},
     "execution_count": 181
    }
   ],
   "source": [
    "sentences_ted[0]"
   ]
  },
  {
   "cell_type": "code",
   "execution_count": 182,
   "metadata": {},
   "outputs": [],
   "source": [
    "\n",
    "from gensim.models import Word2Vec\n",
    "\n",
    "model_ted = Word2Vec(sentences=Sen, size=10, window=3, min_count=5, workers=4, sg=0)\n",
    "model_ted = Word2Vec(sentences=sentences_ted, size=10, window=3, min_count=5, workers=4, sg=0)"
   ]
  },
  {
   "cell_type": "code",
   "execution_count": 184,
   "metadata": {},
   "outputs": [
    {
     "output_type": "execute_result",
     "data": {
      "text/plain": "[('woman', 0.9832761287689209),\n ('girl', 0.9495598077774048),\n ('boy', 0.9316831231117249),\n ('lady', 0.9284731149673462),\n ('friend', 0.9236975908279419),\n ('guy', 0.9091511368751526),\n ('child', 0.896727979183197),\n ('brother', 0.8794185519218445),\n ('father', 0.8767870664596558),\n ('daughter', 0.876102864742279)]"
     },
     "metadata": {},
     "execution_count": 184
    }
   ],
   "source": [
    "model_ted.wv.most_similar('man')"
   ]
  },
  {
   "cell_type": "code",
   "execution_count": 186,
   "metadata": {},
   "outputs": [],
   "source": [
    "from gensim.models import FastText\n",
    "model_ted = FastText(sentences_ted, size=10, window=3, min_count=5, workers=4,sg=1)"
   ]
  },
  {
   "cell_type": "code",
   "execution_count": 187,
   "metadata": {},
   "outputs": [
    {
     "output_type": "execute_result",
     "data": {
      "text/plain": "[('borderless', 0.9880135655403137),\n ('benevolent', 0.986836314201355),\n ('initiative', 0.9858351945877075),\n ('delaware', 0.985022783279419),\n ('diplomat', 0.9812185764312744),\n ('censorship', 0.980431079864502),\n ('idealab', 0.9802150130271912),\n ('anagnorisis', 0.9793952703475952),\n ('aeronautics', 0.9790065884590149),\n ('compartmentalized', 0.9787019491195679)]"
     },
     "metadata": {},
     "execution_count": 187
    }
   ],
   "source": [
    "model_ted.wv.most_similar('Gastroenteritis')"
   ]
  },
  {
   "cell_type": "code",
   "execution_count": 189,
   "metadata": {},
   "outputs": [],
   "source": [
    "a=model_ted.wv['car']"
   ]
  },
  {
   "cell_type": "code",
   "execution_count": 190,
   "metadata": {},
   "outputs": [
    {
     "output_type": "execute_result",
     "data": {
      "text/plain": "array([-0.696699  ,  1.0907794 ,  0.05345207, -0.90658665, -0.69240624,\n       -0.26275662, -0.11506832, -0.6883314 , -0.11154088, -0.1074451 ],\n      dtype=float32)"
     },
     "metadata": {},
     "execution_count": 190
    }
   ],
   "source": [
    "a"
   ]
  },
  {
   "cell_type": "code",
   "execution_count": 191,
   "metadata": {},
   "outputs": [
    {
     "output_type": "execute_result",
     "data": {
      "text/plain": "10"
     },
     "metadata": {},
     "execution_count": 191
    }
   ],
   "source": [
    "len(a)"
   ]
  },
  {
   "cell_type": "code",
   "execution_count": 195,
   "metadata": {},
   "outputs": [
    {
     "output_type": "execute_result",
     "data": {
      "text/plain": "((0.31209907796701986, 8.079138223651747e-09),\n SpearmanrResult(correlation=0.3112698232108314, pvalue=8.889208127817677e-09),\n 7.365439093484419)"
     },
     "metadata": {},
     "execution_count": 195
    }
   ],
   "source": [
    "model_ted.wv.evaluate_word_pairs('wordsim353.tsv')"
   ]
  },
  {
   "cell_type": "code",
   "execution_count": 1,
   "metadata": {},
   "outputs": [],
   "source": [
    "import torch\n",
    "mfcc = torch.load('Mfcc_feature.pt')"
   ]
  },
  {
   "cell_type": "code",
   "execution_count": 2,
   "metadata": {},
   "outputs": [
    {
     "output_type": "error",
     "ename": "AttributeError",
     "evalue": "'dict' object has no attribute 'shape'",
     "traceback": [
      "\u001b[1;31m---------------------------------------------------------------------------\u001b[0m",
      "\u001b[1;31mAttributeError\u001b[0m                            Traceback (most recent call last)",
      "\u001b[1;32m<ipython-input-2-0587e8aaec7d>\u001b[0m in \u001b[0;36m<module>\u001b[1;34m\u001b[0m\n\u001b[1;32m----> 1\u001b[1;33m \u001b[0mmfcc\u001b[0m\u001b[1;33m.\u001b[0m\u001b[0mshape\u001b[0m\u001b[1;33m\u001b[0m\u001b[1;33m\u001b[0m\u001b[0m\n\u001b[0m",
      "\u001b[1;31mAttributeError\u001b[0m: 'dict' object has no attribute 'shape'"
     ]
    }
   ],
   "source": [
    "mfcc.shape"
   ]
  },
  {
   "cell_type": "code",
   "execution_count": 27,
   "metadata": {},
   "outputs": [],
   "source": [
    "import numpy as np\n",
    "input=[]\n",
    "for m in mfcc['mfcc']:\n",
    "    input.append(m)"
   ]
  },
  {
   "cell_type": "code",
   "execution_count": 28,
   "metadata": {},
   "outputs": [],
   "source": [
    "input=np.asarray(input).transpose(0,2,1)"
   ]
  },
  {
   "cell_type": "code",
   "execution_count": 29,
   "metadata": {},
   "outputs": [
    {
     "output_type": "execute_result",
     "data": {
      "text/plain": "(20, 400, 13)"
     },
     "metadata": {},
     "execution_count": 29
    }
   ],
   "source": []
  },
  {
   "cell_type": "code",
   "execution_count": 30,
   "metadata": {},
   "outputs": [
    {
     "output_type": "execute_result",
     "data": {
      "text/plain": "array([[-676.4033  , -655.20734 , -652.4823  , ...,    0.      ,\n           0.      ,    0.      ],\n       [  60.13748 ,   62.161404,   53.713818, ...,    0.      ,\n           0.      ,    0.      ],\n       [ -16.710009,  -26.98094 ,  -40.093697, ...,    0.      ,\n           0.      ,    0.      ],\n       ...,\n       [  15.198107,   19.322918,   18.376934, ...,    0.      ,\n           0.      ,    0.      ],\n       [ -23.876957,  -16.92124 ,  -28.317642, ...,    0.      ,\n           0.      ,    0.      ],\n       [  28.821056,   20.086813,    9.370873, ...,    0.      ,\n           0.      ,    0.      ]], dtype=float32)"
     },
     "metadata": {},
     "execution_count": 30
    }
   ],
   "source": [
    "mfcc['mfcc'][0]"
   ]
  },
  {
   "cell_type": "code",
   "execution_count": null,
   "metadata": {},
   "outputs": [],
   "source": []
  }
 ],
 "metadata": {
  "language_info": {
   "codemirror_mode": {
    "name": "ipython",
    "version": 3
   },
   "file_extension": ".py",
   "mimetype": "text/x-python",
   "name": "python",
   "nbconvert_exporter": "python",
   "pygments_lexer": "ipython3",
   "version": "3.7.6-final"
  },
  "orig_nbformat": 2,
  "kernelspec": {
   "name": "python37664bitb225f4bd86994289a4055ad484dc0491",
   "display_name": "Python 3.7.6 64-bit"
  }
 },
 "nbformat": 4,
 "nbformat_minor": 2
}