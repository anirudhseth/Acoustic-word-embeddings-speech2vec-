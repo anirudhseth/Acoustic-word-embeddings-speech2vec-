{
 "cells": [
  {
   "cell_type": "code",
   "execution_count": 1,
   "metadata": {},
   "outputs": [
    {
     "output_type": "stream",
     "name": "stderr",
     "text": "Using TensorFlow backend.\n"
    }
   ],
   "source": [
    "import numpy as np\n",
    "from keras.models import Sequential\n",
    "from keras.layers import LSTM\n",
    "from keras.layers import Dense\n",
    "from keras.layers import RepeatVector\n",
    "from keras.layers import TimeDistributed\n",
    "from keras.models import Model\n",
    "from keras.utils import plot_model\n",
    "import torch\n",
    "from sklearn.preprocessing import normalize\n",
    "import matplotlib.pyplot as plt"
   ]
  },
  {
   "cell_type": "code",
   "execution_count": 2,
   "metadata": {},
   "outputs": [],
   "source": [
    "mfcc = torch.load('Mfcc_feature.pt')"
   ]
  },
  {
   "cell_type": "code",
   "execution_count": 3,
   "metadata": {},
   "outputs": [],
   "source": [
    "\n",
    "input=[]\n",
    "for m in mfcc['mfcc']:\n",
    "    norm=normalize(m,axis=1)\n",
    "    input.append(norm)"
   ]
  },
  {
   "cell_type": "code",
   "execution_count": 4,
   "metadata": {},
   "outputs": [],
   "source": [
    "input=np.asarray(input).transpose(0,2,1)"
   ]
  },
  {
   "cell_type": "code",
   "execution_count": 5,
   "metadata": {},
   "outputs": [
    {
     "output_type": "execute_result",
     "data": {
      "text/plain": "(400, 13)"
     },
     "metadata": {},
     "execution_count": 5
    }
   ],
   "source": [
    "input[0].shape"
   ]
  },
  {
   "cell_type": "code",
   "execution_count": 6,
   "metadata": {},
   "outputs": [],
   "source": [
    "timesteps = 400\n",
    "n_features = 13"
   ]
  },
  {
   "cell_type": "code",
   "execution_count": 7,
   "metadata": {},
   "outputs": [
    {
     "output_type": "stream",
     "name": "stdout",
     "text": "Model: \"sequential_1\"\n_________________________________________________________________\nLayer (type)                 Output Shape              Param #   \n=================================================================\nlstm_1 (LSTM)                (None, 400, 128)          72704     \n_________________________________________________________________\nlstm_2 (LSTM)                (None, 64)                49408     \n_________________________________________________________________\nrepeat_vector_1 (RepeatVecto (None, 400, 64)           0         \n_________________________________________________________________\nlstm_3 (LSTM)                (None, 400, 64)           33024     \n_________________________________________________________________\nlstm_4 (LSTM)                (None, 400, 128)          98816     \n_________________________________________________________________\ntime_distributed_1 (TimeDist (None, 400, 13)           1677      \n=================================================================\nTotal params: 255,629\nTrainable params: 255,629\nNon-trainable params: 0\n_________________________________________________________________\n"
    }
   ],
   "source": [
    "model = Sequential()\n",
    "model.add(LSTM(128, activation='relu', input_shape=(timesteps,n_features), return_sequences=True))\n",
    "model.add(LSTM(64, activation='relu', return_sequences=False))\n",
    "model.add(RepeatVector(timesteps))\n",
    "model.add(LSTM(64, activation='relu', return_sequences=True))\n",
    "model.add(LSTM(128, activation='relu', return_sequences=True))\n",
    "model.add(TimeDistributed(Dense(n_features)))\n",
    "model.compile(optimizer='adam', loss='mse')\n",
    "model.summary()"
   ]
  },
  {
   "cell_type": "code",
   "execution_count": 22,
   "metadata": {
    "tags": [
     "outputPrepend",
     "outputPrepend",
     "outputPrepend",
     "outputPrepend",
     "outputPrepend",
     "outputPrepend",
     "outputPrepend",
     "outputPrepend",
     "outputPrepend",
     "outputPrepend",
     "outputPrepend",
     "outputPrepend",
     "outputPrepend",
     "outputPrepend",
     "outputPrepend",
     "outputPrepend",
     "outputPrepend",
     "outputPrepend",
     "outputPrepend",
     "outputPrepend",
     "outputPrepend",
     "outputPrepend",
     "outputPrepend",
     "outputPrepend",
     "outputPrepend",
     "outputPrepend",
     "outputPrepend",
     "outputPrepend",
     "outputPrepend",
     "outputPrepend",
     "outputPrepend",
     "outputPrepend",
     "outputPrepend",
     "outputPrepend",
     "outputPrepend",
     "outputPrepend",
     "outputPrepend",
     "outputPrepend",
     "outputPrepend",
     "outputPrepend",
     "outputPrepend",
     "outputPrepend",
     "outputPrepend",
     "outputPrepend",
     "outputPrepend",
     "outputPrepend",
     "outputPrepend",
     "outputPrepend",
     "outputPrepend",
     "outputPrepend",
     "outputPrepend",
     "outputPrepend",
     "outputPrepend",
     "outputPrepend",
     "outputPrepend",
     "outputPrepend",
     "outputPrepend",
     "outputPrepend",
     "outputPrepend",
     "outputPrepend",
     "outputPrepend",
     "outputPrepend",
     "outputPrepend",
     "outputPrepend",
     "outputPrepend",
     "outputPrepend",
     "outputPrepend",
     "outputPrepend",
     "outputPrepend",
     "outputPrepend",
     "outputPrepend",
     "outputPrepend",
     "outputPrepend",
     "outputPrepend",
     "outputPrepend",
     "outputPrepend",
     "outputPrepend",
     "outputPrepend",
     "outputPrepend",
     "outputPrepend",
     "outputPrepend",
     "outputPrepend",
     "outputPrepend",
     "outputPrepend",
     "outputPrepend",
     "outputPrepend",
     "outputPrepend",
     "outputPrepend",
     "outputPrepend",
     "outputPrepend",
     "outputPrepend",
     "outputPrepend",
     "outputPrepend",
     "outputPrepend",
     "outputPrepend",
     "outputPrepend",
     "outputPrepend",
     "outputPrepend",
     "outputPrepend",
     "outputPrepend",
     "outputPrepend",
     "outputPrepend",
     "outputPrepend",
     "outputPrepend",
     "outputPrepend",
     "outputPrepend",
     "outputPrepend",
     "outputPrepend",
     "outputPrepend",
     "outputPrepend",
     "outputPrepend",
     "outputPrepend",
     "outputPrepend",
     "outputPrepend",
     "outputPrepend"
    ]
   },
   "outputs": [
    {
     "output_type": "stream",
     "name": "stdout",
     "text": "=====] - 1s 59ms/step - loss: 0.0024\nEpoch 60/300\n20/20 [==============================] - 1s 69ms/step - loss: 0.0023\nEpoch 61/300\n20/20 [==============================] - 1s 72ms/step - loss: 0.0023\nEpoch 62/300\n20/20 [==============================] - 1s 57ms/step - loss: 0.0023\nEpoch 63/300\n20/20 [==============================] - 1s 56ms/step - loss: 0.0023\nEpoch 64/300\n20/20 [==============================] - 1s 51ms/step - loss: 0.0023\nEpoch 65/300\n20/20 [==============================] - 1s 51ms/step - loss: 0.0023\nEpoch 66/300\n20/20 [==============================] - 1s 51ms/step - loss: 0.0023\nEpoch 67/300\n20/20 [==============================] - 1s 52ms/step - loss: 0.0023\nEpoch 68/300\n20/20 [==============================] - 1s 54ms/step - loss: 0.0023\nEpoch 69/300\n20/20 [==============================] - 1s 54ms/step - loss: 0.0022\nEpoch 70/300\n20/20 [==============================] - 1s 52ms/step - loss: 0.0023\nEpoch 71/300\n20/20 [==============================] - 1s 52ms/step - loss: 0.0022\nEpoch 72/300\n20/20 [==============================] - 1s 50ms/step - loss: 0.0022\nEpoch 73/300\n20/20 [==============================] - 1s 52ms/step - loss: 0.0022\nEpoch 74/300\n20/20 [==============================] - 1s 52ms/step - loss: 0.0022\nEpoch 75/300\n20/20 [==============================] - 1s 51ms/step - loss: 0.0022\nEpoch 76/300\n20/20 [==============================] - 1s 56ms/step - loss: 0.0022\nEpoch 77/300\n20/20 [==============================] - 1s 68ms/step - loss: 0.0022\nEpoch 78/300\n20/20 [==============================] - 1s 56ms/step - loss: 0.0022\nEpoch 79/300\n20/20 [==============================] - 1s 60ms/step - loss: 0.0022\nEpoch 80/300\n20/20 [==============================] - 1s 60ms/step - loss: 0.0022\nEpoch 81/300\n20/20 [==============================] - 1s 61ms/step - loss: 0.0022\nEpoch 82/300\n20/20 [==============================] - 1s 59ms/step - loss: 0.0022\nEpoch 83/300\n20/20 [==============================] - 1s 62ms/step - loss: 0.0022\nEpoch 84/300\n20/20 [==============================] - 1s 62ms/step - loss: 0.0022\nEpoch 85/300\n20/20 [==============================] - 1s 60ms/step - loss: 0.0022\nEpoch 86/300\n20/20 [==============================] - 1s 59ms/step - loss: 0.0022\nEpoch 87/300\n20/20 [==============================] - 1s 57ms/step - loss: 0.0022\nEpoch 88/300\n20/20 [==============================] - 1s 56ms/step - loss: 0.0022\nEpoch 89/300\n20/20 [==============================] - 1s 54ms/step - loss: 0.0022\nEpoch 90/300\n20/20 [==============================] - 1s 55ms/step - loss: 0.0022\nEpoch 91/300\n20/20 [==============================] - 1s 53ms/step - loss: 0.0022\nEpoch 92/300\n20/20 [==============================] - 1s 56ms/step - loss: 0.0022\nEpoch 93/300\n20/20 [==============================] - 1s 61ms/step - loss: 0.0022\nEpoch 94/300\n20/20 [==============================] - 1s 59ms/step - loss: 0.0022\nEpoch 95/300\n20/20 [==============================] - 1s 57ms/step - loss: 0.0022\nEpoch 96/300\n20/20 [==============================] - 1s 55ms/step - loss: 0.0022\nEpoch 97/300\n20/20 [==============================] - 1s 55ms/step - loss: 0.0022\nEpoch 98/300\n20/20 [==============================] - 1s 56ms/step - loss: 0.0022\nEpoch 99/300\n20/20 [==============================] - 1s 56ms/step - loss: 0.0022\nEpoch 100/300\n20/20 [==============================] - 1s 57ms/step - loss: 0.0022\nEpoch 101/300\n20/20 [==============================] - 1s 55ms/step - loss: 0.0022\nEpoch 102/300\n20/20 [==============================] - 1s 56ms/step - loss: 0.0022\nEpoch 103/300\n20/20 [==============================] - 1s 60ms/step - loss: 0.0022\nEpoch 104/300\n20/20 [==============================] - 1s 55ms/step - loss: 0.0022\nEpoch 105/300\n20/20 [==============================] - 1s 63ms/step - loss: 0.0022\nEpoch 106/300\n20/20 [==============================] - 1s 59ms/step - loss: 0.0022\nEpoch 107/300\n20/20 [==============================] - 1s 55ms/step - loss: 0.0022\nEpoch 108/300\n20/20 [==============================] - 1s 54ms/step - loss: 0.0022\nEpoch 109/300\n20/20 [==============================] - 1s 56ms/step - loss: 0.0022\nEpoch 110/300\n20/20 [==============================] - 1s 57ms/step - loss: 0.0022\nEpoch 111/300\n20/20 [==============================] - 1s 55ms/step - loss: 0.0022\nEpoch 112/300\n20/20 [==============================] - 1s 55ms/step - loss: 0.0022\nEpoch 113/300\n20/20 [==============================] - 1s 56ms/step - loss: 0.0022\nEpoch 114/300\n20/20 [==============================] - 1s 56ms/step - loss: 0.0022\nEpoch 115/300\n20/20 [==============================] - 1s 54ms/step - loss: 0.0022\nEpoch 116/300\n20/20 [==============================] - 1s 56ms/step - loss: 0.0022\nEpoch 117/300\n20/20 [==============================] - 1s 55ms/step - loss: 0.0022\nEpoch 118/300\n20/20 [==============================] - 1s 54ms/step - loss: 0.0022\nEpoch 119/300\n20/20 [==============================] - 1s 55ms/step - loss: 0.0022\nEpoch 120/300\n20/20 [==============================] - 1s 54ms/step - loss: 0.0022\nEpoch 121/300\n20/20 [==============================] - 1s 54ms/step - loss: 0.0022\nEpoch 122/300\n20/20 [==============================] - 1s 54ms/step - loss: 0.0022\nEpoch 123/300\n20/20 [==============================] - 1s 56ms/step - loss: 0.0022\nEpoch 124/300\n20/20 [==============================] - 1s 54ms/step - loss: 0.0022\nEpoch 125/300\n20/20 [==============================] - 1s 54ms/step - loss: 0.0022\nEpoch 126/300\n20/20 [==============================] - 1s 56ms/step - loss: 0.0022\nEpoch 127/300\n20/20 [==============================] - 1s 54ms/step - loss: 0.0022\nEpoch 128/300\n20/20 [==============================] - 1s 56ms/step - loss: 0.0022\nEpoch 129/300\n20/20 [==============================] - 1s 55ms/step - loss: 0.0022\nEpoch 130/300\n20/20 [==============================] - 1s 55ms/step - loss: 0.0022\nEpoch 131/300\n20/20 [==============================] - 1s 59ms/step - loss: 0.0022\nEpoch 132/300\n20/20 [==============================] - 1s 62ms/step - loss: 0.0022\nEpoch 133/300\n20/20 [==============================] - 1s 57ms/step - loss: 0.0022\nEpoch 134/300\n20/20 [==============================] - 1s 56ms/step - loss: 0.0022\nEpoch 135/300\n20/20 [==============================] - 1s 54ms/step - loss: 0.0022\nEpoch 136/300\n20/20 [==============================] - 1s 55ms/step - loss: 0.0022\nEpoch 137/300\n20/20 [==============================] - 1s 54ms/step - loss: 0.0021\nEpoch 138/300\n20/20 [==============================] - 1s 62ms/step - loss: 0.0021\nEpoch 139/300\n20/20 [==============================] - 1s 60ms/step - loss: 0.0021\nEpoch 140/300\n20/20 [==============================] - 1s 64ms/step - loss: 0.0021\nEpoch 141/300\n20/20 [==============================] - 1s 59ms/step - loss: 0.0021\nEpoch 142/300\n20/20 [==============================] - 1s 57ms/step - loss: 0.0021\nEpoch 143/300\n20/20 [==============================] - 1s 55ms/step - loss: 0.0021\nEpoch 144/300\n20/20 [==============================] - 1s 56ms/step - loss: 0.0021\nEpoch 145/300\n20/20 [==============================] - 1s 55ms/step - loss: 0.0021\nEpoch 146/300\n20/20 [==============================] - 1s 55ms/step - loss: 0.0021\nEpoch 147/300\n20/20 [==============================] - 1s 56ms/step - loss: 0.0021\nEpoch 148/300\n20/20 [==============================] - 1s 54ms/step - loss: 0.0021\nEpoch 149/300\n20/20 [==============================] - 1s 54ms/step - loss: 0.0021\nEpoch 150/300\n20/20 [==============================] - 1s 54ms/step - loss: 0.0021\nEpoch 151/300\n20/20 [==============================] - 1s 55ms/step - loss: 0.0021\nEpoch 152/300\n20/20 [==============================] - 1s 55ms/step - loss: 0.0021\nEpoch 153/300\n20/20 [==============================] - 1s 55ms/step - loss: 0.0021\nEpoch 154/300\n20/20 [==============================] - 1s 56ms/step - loss: 0.0021\nEpoch 155/300\n20/20 [==============================] - 1s 55ms/step - loss: 0.0021\nEpoch 156/300\n20/20 [==============================] - 1s 57ms/step - loss: 0.0021\nEpoch 157/300\n20/20 [==============================] - 1s 56ms/step - loss: 0.0021\nEpoch 158/300\n20/20 [==============================] - 1s 55ms/step - loss: 0.0021\nEpoch 159/300\n20/20 [==============================] - 1s 55ms/step - loss: 0.0021\nEpoch 160/300\n20/20 [==============================] - 1s 56ms/step - loss: 0.0021\nEpoch 161/300\n20/20 [==============================] - 1s 60ms/step - loss: 0.0021\nEpoch 162/300\n20/20 [==============================] - 1s 60ms/step - loss: 0.0021\nEpoch 163/300\n20/20 [==============================] - 1s 57ms/step - loss: 0.0021\nEpoch 164/300\n20/20 [==============================] - 1s 55ms/step - loss: 0.0021\nEpoch 165/300\n20/20 [==============================] - 1s 54ms/step - loss: 0.0021\nEpoch 166/300\n20/20 [==============================] - 1s 54ms/step - loss: 0.0021\nEpoch 167/300\n20/20 [==============================] - 1s 55ms/step - loss: 0.0021\nEpoch 168/300\n20/20 [==============================] - 1s 57ms/step - loss: 0.0021\nEpoch 169/300\n20/20 [==============================] - 1s 56ms/step - loss: 0.0021\nEpoch 170/300\n20/20 [==============================] - 1s 69ms/step - loss: 0.0021\nEpoch 171/300\n20/20 [==============================] - 1s 52ms/step - loss: 0.0021\nEpoch 172/300\n20/20 [==============================] - 1s 59ms/step - loss: 0.0021\nEpoch 173/300\n20/20 [==============================] - 1s 56ms/step - loss: 0.0021\nEpoch 174/300\n20/20 [==============================] - 1s 52ms/step - loss: 0.0021\nEpoch 175/300\n20/20 [==============================] - 1s 53ms/step - loss: 0.0021\nEpoch 176/300\n20/20 [==============================] - 1s 53ms/step - loss: 0.0021\nEpoch 177/300\n20/20 [==============================] - 1s 51ms/step - loss: 0.0021\nEpoch 178/300\n20/20 [==============================] - 1s 52ms/step - loss: 0.0021\nEpoch 179/300\n20/20 [==============================] - 1s 51ms/step - loss: 0.0021\nEpoch 180/300\n20/20 [==============================] - 1s 50ms/step - loss: 0.0021\nEpoch 181/300\n20/20 [==============================] - 1s 51ms/step - loss: 0.0021\nEpoch 182/300\n20/20 [==============================] - 1s 58ms/step - loss: 0.0021\nEpoch 183/300\n20/20 [==============================] - 1s 57ms/step - loss: 0.0021\nEpoch 184/300\n20/20 [==============================] - 1s 52ms/step - loss: 0.0021\nEpoch 185/300\n20/20 [==============================] - 1s 52ms/step - loss: 0.0021\nEpoch 186/300\n20/20 [==============================] - 1s 51ms/step - loss: 0.0021\nEpoch 187/300\n20/20 [==============================] - 1s 51ms/step - loss: 0.0021\nEpoch 188/300\n20/20 [==============================] - 1s 52ms/step - loss: 0.0021\nEpoch 189/300\n20/20 [==============================] - 1s 51ms/step - loss: 0.0021\nEpoch 190/300\n20/20 [==============================] - 1s 51ms/step - loss: 0.0021\nEpoch 191/300\n20/20 [==============================] - 1s 50ms/step - loss: 0.0021\nEpoch 192/300\n20/20 [==============================] - 1s 52ms/step - loss: 0.0021\nEpoch 193/300\n20/20 [==============================] - 1s 52ms/step - loss: 0.0021\nEpoch 194/300\n20/20 [==============================] - 1s 52ms/step - loss: 0.0021\nEpoch 195/300\n20/20 [==============================] - 1s 51ms/step - loss: 0.0021\nEpoch 196/300\n20/20 [==============================] - 1s 53ms/step - loss: 0.0021\nEpoch 197/300\n20/20 [==============================] - 1s 50ms/step - loss: 0.0021\nEpoch 198/300\n20/20 [==============================] - 1s 51ms/step - loss: 0.0021\nEpoch 199/300\n20/20 [==============================] - 1s 52ms/step - loss: 0.0021\nEpoch 200/300\n20/20 [==============================] - 1s 56ms/step - loss: 0.0021\nEpoch 201/300\n20/20 [==============================] - 1s 57ms/step - loss: 0.0021\nEpoch 202/300\n20/20 [==============================] - 1s 61ms/step - loss: 0.0021\nEpoch 203/300\n20/20 [==============================] - 1s 56ms/step - loss: 0.0021\nEpoch 204/300\n20/20 [==============================] - 1s 56ms/step - loss: 0.0021\nEpoch 205/300\n20/20 [==============================] - 1s 56ms/step - loss: 0.0021\nEpoch 206/300\n20/20 [==============================] - 1s 52ms/step - loss: 0.0021\nEpoch 207/300\n20/20 [==============================] - 1s 53ms/step - loss: 0.0021\nEpoch 208/300\n20/20 [==============================] - 1s 51ms/step - loss: 0.0021\nEpoch 209/300\n20/20 [==============================] - 1s 52ms/step - loss: 0.0021\nEpoch 210/300\n20/20 [==============================] - 1s 53ms/step - loss: 0.0021\nEpoch 211/300\n20/20 [==============================] - 1s 55ms/step - loss: 0.0021\nEpoch 212/300\n20/20 [==============================] - 1s 52ms/step - loss: 0.0021\nEpoch 213/300\n20/20 [==============================] - 1s 52ms/step - loss: 0.0021\nEpoch 214/300\n20/20 [==============================] - 1s 52ms/step - loss: 0.0021\nEpoch 215/300\n20/20 [==============================] - 1s 52ms/step - loss: 0.0021\nEpoch 216/300\n20/20 [==============================] - 1s 51ms/step - loss: 0.0021\nEpoch 217/300\n20/20 [==============================] - 1s 50ms/step - loss: 0.0021\nEpoch 218/300\n20/20 [==============================] - 1s 51ms/step - loss: 0.0021\nEpoch 219/300\n20/20 [==============================] - 1s 51ms/step - loss: 0.0021\nEpoch 220/300\n20/20 [==============================] - 1s 52ms/step - loss: 0.0021\nEpoch 221/300\n20/20 [==============================] - 1s 53ms/step - loss: 0.0021\nEpoch 222/300\n20/20 [==============================] - 1s 51ms/step - loss: 0.0021\nEpoch 223/300\n20/20 [==============================] - 1s 52ms/step - loss: 0.0021\nEpoch 224/300\n20/20 [==============================] - 1s 53ms/step - loss: 0.0021\nEpoch 225/300\n20/20 [==============================] - 1s 52ms/step - loss: 0.0021\nEpoch 226/300\n20/20 [==============================] - 1s 54ms/step - loss: 0.0021\nEpoch 227/300\n20/20 [==============================] - 1s 52ms/step - loss: 0.0021\nEpoch 228/300\n20/20 [==============================] - 1s 51ms/step - loss: 0.0021\nEpoch 229/300\n20/20 [==============================] - 1s 52ms/step - loss: 0.0021\nEpoch 230/300\n20/20 [==============================] - 1s 51ms/step - loss: 0.0021\nEpoch 231/300\n20/20 [==============================] - 1s 52ms/step - loss: 0.0021\nEpoch 232/300\n20/20 [==============================] - 1s 59ms/step - loss: 0.0021\nEpoch 233/300\n20/20 [==============================] - 1s 53ms/step - loss: 0.0021\nEpoch 234/300\n20/20 [==============================] - 1s 53ms/step - loss: 0.0021\nEpoch 235/300\n20/20 [==============================] - 1s 53ms/step - loss: 0.0021\nEpoch 236/300\n20/20 [==============================] - 1s 52ms/step - loss: 0.0021\nEpoch 237/300\n20/20 [==============================] - 1s 52ms/step - loss: 0.0021\nEpoch 238/300\n20/20 [==============================] - 1s 51ms/step - loss: 0.0021\nEpoch 239/300\n20/20 [==============================] - 1s 52ms/step - loss: 0.0021\nEpoch 240/300\n20/20 [==============================] - 1s 50ms/step - loss: 0.0021\nEpoch 241/300\n20/20 [==============================] - 1s 52ms/step - loss: 0.0021\nEpoch 242/300\n20/20 [==============================] - 1s 65ms/step - loss: 0.0021\nEpoch 243/300\n20/20 [==============================] - 1s 54ms/step - loss: 0.0021\nEpoch 244/300\n20/20 [==============================] - 1s 57ms/step - loss: 0.0021\nEpoch 245/300\n20/20 [==============================] - 1s 59ms/step - loss: 0.0021\nEpoch 246/300\n20/20 [==============================] - 1s 60ms/step - loss: 0.0021\nEpoch 247/300\n20/20 [==============================] - 1s 63ms/step - loss: 0.0021\nEpoch 248/300\n20/20 [==============================] - 1s 59ms/step - loss: 0.0021\nEpoch 249/300\n20/20 [==============================] - 1s 63ms/step - loss: 0.0021\nEpoch 250/300\n20/20 [==============================] - 1s 56ms/step - loss: 0.0021\nEpoch 251/300\n20/20 [==============================] - 1s 55ms/step - loss: 0.0021\nEpoch 252/300\n20/20 [==============================] - 1s 56ms/step - loss: 0.0021\nEpoch 253/300\n20/20 [==============================] - 1s 59ms/step - loss: 0.0021\nEpoch 254/300\n20/20 [==============================] - 1s 56ms/step - loss: 0.0021\nEpoch 255/300\n20/20 [==============================] - 1s 59ms/step - loss: 0.0021\nEpoch 256/300\n20/20 [==============================] - 1s 57ms/step - loss: 0.0021\nEpoch 257/300\n20/20 [==============================] - 1s 56ms/step - loss: 0.0021\nEpoch 258/300\n20/20 [==============================] - 1s 56ms/step - loss: 0.0021\nEpoch 259/300\n20/20 [==============================] - 1s 56ms/step - loss: 0.0021\nEpoch 260/300\n20/20 [==============================] - 1s 55ms/step - loss: 0.0021\nEpoch 261/300\n20/20 [==============================] - 1s 55ms/step - loss: 0.0021\nEpoch 262/300\n20/20 [==============================] - 1s 54ms/step - loss: 0.0021\nEpoch 263/300\n20/20 [==============================] - 1s 55ms/step - loss: 0.0021\nEpoch 264/300\n20/20 [==============================] - 1s 57ms/step - loss: 0.0021\nEpoch 265/300\n20/20 [==============================] - 1s 56ms/step - loss: 0.0021\nEpoch 266/300\n20/20 [==============================] - 1s 54ms/step - loss: 0.0021\nEpoch 267/300\n20/20 [==============================] - 1s 56ms/step - loss: 0.0021\nEpoch 268/300\n20/20 [==============================] - 1s 58ms/step - loss: 0.0021\nEpoch 269/300\n20/20 [==============================] - 1s 54ms/step - loss: 0.0021\nEpoch 270/300\n20/20 [==============================] - 1s 55ms/step - loss: 0.0021\nEpoch 271/300\n20/20 [==============================] - 1s 65ms/step - loss: 0.0021\nEpoch 272/300\n20/20 [==============================] - 1s 57ms/step - loss: 0.0021\nEpoch 273/300\n20/20 [==============================] - 1s 53ms/step - loss: 0.0021\nEpoch 274/300\n20/20 [==============================] - 1s 52ms/step - loss: 0.0021\nEpoch 275/300\n20/20 [==============================] - 1s 50ms/step - loss: 0.0021\nEpoch 276/300\n20/20 [==============================] - 1s 52ms/step - loss: 0.0021\nEpoch 277/300\n20/20 [==============================] - 1s 51ms/step - loss: 0.0021\nEpoch 278/300\n20/20 [==============================] - 1s 51ms/step - loss: 0.0021\nEpoch 279/300\n20/20 [==============================] - 1s 51ms/step - loss: 0.0021\nEpoch 280/300\n20/20 [==============================] - 1s 52ms/step - loss: 0.0021\nEpoch 281/300\n20/20 [==============================] - 1s 53ms/step - loss: 0.0021\nEpoch 282/300\n20/20 [==============================] - 1s 52ms/step - loss: 0.0021\nEpoch 283/300\n20/20 [==============================] - 1s 51ms/step - loss: 0.0021\nEpoch 284/300\n20/20 [==============================] - 1s 51ms/step - loss: 0.0021\nEpoch 285/300\n20/20 [==============================] - 1s 57ms/step - loss: 0.0021\nEpoch 286/300\n20/20 [==============================] - 1s 57ms/step - loss: 0.0021\nEpoch 287/300\n20/20 [==============================] - 1s 51ms/step - loss: 0.0021\nEpoch 288/300\n20/20 [==============================] - 1s 51ms/step - loss: 0.0021\nEpoch 289/300\n20/20 [==============================] - 1s 52ms/step - loss: 0.0021\nEpoch 290/300\n20/20 [==============================] - 1s 53ms/step - loss: 0.0021\nEpoch 291/300\n20/20 [==============================] - 1s 51ms/step - loss: 0.0021\nEpoch 292/300\n20/20 [==============================] - 1s 54ms/step - loss: 0.0021\nEpoch 293/300\n20/20 [==============================] - 1s 52ms/step - loss: 0.0021\nEpoch 294/300\n20/20 [==============================] - 1s 51ms/step - loss: 0.0021\nEpoch 295/300\n20/20 [==============================] - 1s 53ms/step - loss: 0.0021\nEpoch 296/300\n20/20 [==============================] - 1s 52ms/step - loss: 0.0021\nEpoch 297/300\n20/20 [==============================] - 1s 51ms/step - loss: 0.0021\nEpoch 298/300\n20/20 [==============================] - 1s 51ms/step - loss: 0.0021\nEpoch 299/300\n20/20 [==============================] - 1s 51ms/step - loss: 0.0021\nEpoch 300/300\n20/20 [==============================] - 1s 52ms/step - loss: 0.0021\n"
    }
   ],
   "source": [
    "\n",
    "hist=model.fit(input, input, epochs=300, verbose=1)"
   ]
  },
  {
   "cell_type": "code",
   "execution_count": 23,
   "metadata": {},
   "outputs": [
    {
     "output_type": "execute_result",
     "data": {
      "text/plain": "[<matplotlib.lines.Line2D at 0x7fb5907bf9e8>]"
     },
     "metadata": {},
     "execution_count": 23
    },
    {
     "output_type": "display_data",
     "data": {
      "text/plain": "<Figure size 432x288 with 1 Axes>",
      "image/svg+xml": "<?xml version=\"1.0\" encoding=\"utf-8\" standalone=\"no\"?>\n<!DOCTYPE svg PUBLIC \"-//W3C//DTD SVG 1.1//EN\"\n  \"http://www.w3.org/Graphics/SVG/1.1/DTD/svg11.dtd\">\n<!-- Created with matplotlib (https://matplotlib.org/) -->\n<svg height=\"248.518125pt\" version=\"1.1\" viewBox=\"0 0 397.553125 248.518125\" width=\"397.553125pt\" xmlns=\"http://www.w3.org/2000/svg\" xmlns:xlink=\"http://www.w3.org/1999/xlink\">\n <defs>\n  <style type=\"text/css\">\n*{stroke-linecap:butt;stroke-linejoin:round;}\n  </style>\n </defs>\n <g id=\"figure_1\">\n  <g id=\"patch_1\">\n   <path d=\"M 0 248.518125 \nL 397.553125 248.518125 \nL 397.553125 0 \nL 0 0 \nz\n\" style=\"fill:none;\"/>\n  </g>\n  <g id=\"axes_1\">\n   <g id=\"patch_2\">\n    <path d=\"M 55.553125 224.64 \nL 390.353125 224.64 \nL 390.353125 7.2 \nL 55.553125 7.2 \nz\n\" style=\"fill:#ffffff;\"/>\n   </g>\n   <g id=\"matplotlib.axis_1\">\n    <g id=\"xtick_1\">\n     <g id=\"line2d_1\">\n      <defs>\n       <path d=\"M 0 0 \nL 0 3.5 \n\" id=\"m67e73288ec\" style=\"stroke:#000000;stroke-width:0.8;\"/>\n      </defs>\n      <g>\n       <use style=\"stroke:#000000;stroke-width:0.8;\" x=\"70.771307\" xlink:href=\"#m67e73288ec\" y=\"224.64\"/>\n      </g>\n     </g>\n     <g id=\"text_1\">\n      <!-- 0 -->\n      <defs>\n       <path d=\"M 31.78125 66.40625 \nQ 24.171875 66.40625 20.328125 58.90625 \nQ 16.5 51.421875 16.5 36.375 \nQ 16.5 21.390625 20.328125 13.890625 \nQ 24.171875 6.390625 31.78125 6.390625 \nQ 39.453125 6.390625 43.28125 13.890625 \nQ 47.125 21.390625 47.125 36.375 \nQ 47.125 51.421875 43.28125 58.90625 \nQ 39.453125 66.40625 31.78125 66.40625 \nz\nM 31.78125 74.21875 \nQ 44.046875 74.21875 50.515625 64.515625 \nQ 56.984375 54.828125 56.984375 36.375 \nQ 56.984375 17.96875 50.515625 8.265625 \nQ 44.046875 -1.421875 31.78125 -1.421875 \nQ 19.53125 -1.421875 13.0625 8.265625 \nQ 6.59375 17.96875 6.59375 36.375 \nQ 6.59375 54.828125 13.0625 64.515625 \nQ 19.53125 74.21875 31.78125 74.21875 \nz\n\" id=\"DejaVuSans-48\"/>\n      </defs>\n      <g transform=\"translate(67.590057 239.238438)scale(0.1 -0.1)\">\n       <use xlink:href=\"#DejaVuSans-48\"/>\n      </g>\n     </g>\n    </g>\n    <g id=\"xtick_2\">\n     <g id=\"line2d_2\">\n      <g>\n       <use style=\"stroke:#000000;stroke-width:0.8;\" x=\"121.668236\" xlink:href=\"#m67e73288ec\" y=\"224.64\"/>\n      </g>\n     </g>\n     <g id=\"text_2\">\n      <!-- 50 -->\n      <defs>\n       <path d=\"M 10.796875 72.90625 \nL 49.515625 72.90625 \nL 49.515625 64.59375 \nL 19.828125 64.59375 \nL 19.828125 46.734375 \nQ 21.96875 47.46875 24.109375 47.828125 \nQ 26.265625 48.1875 28.421875 48.1875 \nQ 40.625 48.1875 47.75 41.5 \nQ 54.890625 34.8125 54.890625 23.390625 \nQ 54.890625 11.625 47.5625 5.09375 \nQ 40.234375 -1.421875 26.90625 -1.421875 \nQ 22.3125 -1.421875 17.546875 -0.640625 \nQ 12.796875 0.140625 7.71875 1.703125 \nL 7.71875 11.625 \nQ 12.109375 9.234375 16.796875 8.0625 \nQ 21.484375 6.890625 26.703125 6.890625 \nQ 35.15625 6.890625 40.078125 11.328125 \nQ 45.015625 15.765625 45.015625 23.390625 \nQ 45.015625 31 40.078125 35.4375 \nQ 35.15625 39.890625 26.703125 39.890625 \nQ 22.75 39.890625 18.8125 39.015625 \nQ 14.890625 38.140625 10.796875 36.28125 \nz\n\" id=\"DejaVuSans-53\"/>\n      </defs>\n      <g transform=\"translate(115.305736 239.238438)scale(0.1 -0.1)\">\n       <use xlink:href=\"#DejaVuSans-53\"/>\n       <use x=\"63.623047\" xlink:href=\"#DejaVuSans-48\"/>\n      </g>\n     </g>\n    </g>\n    <g id=\"xtick_3\">\n     <g id=\"line2d_3\">\n      <g>\n       <use style=\"stroke:#000000;stroke-width:0.8;\" x=\"172.565165\" xlink:href=\"#m67e73288ec\" y=\"224.64\"/>\n      </g>\n     </g>\n     <g id=\"text_3\">\n      <!-- 100 -->\n      <defs>\n       <path d=\"M 12.40625 8.296875 \nL 28.515625 8.296875 \nL 28.515625 63.921875 \nL 10.984375 60.40625 \nL 10.984375 69.390625 \nL 28.421875 72.90625 \nL 38.28125 72.90625 \nL 38.28125 8.296875 \nL 54.390625 8.296875 \nL 54.390625 0 \nL 12.40625 0 \nz\n\" id=\"DejaVuSans-49\"/>\n      </defs>\n      <g transform=\"translate(163.021415 239.238438)scale(0.1 -0.1)\">\n       <use xlink:href=\"#DejaVuSans-49\"/>\n       <use x=\"63.623047\" xlink:href=\"#DejaVuSans-48\"/>\n       <use x=\"127.246094\" xlink:href=\"#DejaVuSans-48\"/>\n      </g>\n     </g>\n    </g>\n    <g id=\"xtick_4\">\n     <g id=\"line2d_4\">\n      <g>\n       <use style=\"stroke:#000000;stroke-width:0.8;\" x=\"223.462094\" xlink:href=\"#m67e73288ec\" y=\"224.64\"/>\n      </g>\n     </g>\n     <g id=\"text_4\">\n      <!-- 150 -->\n      <g transform=\"translate(213.918344 239.238438)scale(0.1 -0.1)\">\n       <use xlink:href=\"#DejaVuSans-49\"/>\n       <use x=\"63.623047\" xlink:href=\"#DejaVuSans-53\"/>\n       <use x=\"127.246094\" xlink:href=\"#DejaVuSans-48\"/>\n      </g>\n     </g>\n    </g>\n    <g id=\"xtick_5\">\n     <g id=\"line2d_5\">\n      <g>\n       <use style=\"stroke:#000000;stroke-width:0.8;\" x=\"274.359023\" xlink:href=\"#m67e73288ec\" y=\"224.64\"/>\n      </g>\n     </g>\n     <g id=\"text_5\">\n      <!-- 200 -->\n      <defs>\n       <path d=\"M 19.1875 8.296875 \nL 53.609375 8.296875 \nL 53.609375 0 \nL 7.328125 0 \nL 7.328125 8.296875 \nQ 12.9375 14.109375 22.625 23.890625 \nQ 32.328125 33.6875 34.8125 36.53125 \nQ 39.546875 41.84375 41.421875 45.53125 \nQ 43.3125 49.21875 43.3125 52.78125 \nQ 43.3125 58.59375 39.234375 62.25 \nQ 35.15625 65.921875 28.609375 65.921875 \nQ 23.96875 65.921875 18.8125 64.3125 \nQ 13.671875 62.703125 7.8125 59.421875 \nL 7.8125 69.390625 \nQ 13.765625 71.78125 18.9375 73 \nQ 24.125 74.21875 28.421875 74.21875 \nQ 39.75 74.21875 46.484375 68.546875 \nQ 53.21875 62.890625 53.21875 53.421875 \nQ 53.21875 48.921875 51.53125 44.890625 \nQ 49.859375 40.875 45.40625 35.40625 \nQ 44.1875 33.984375 37.640625 27.21875 \nQ 31.109375 20.453125 19.1875 8.296875 \nz\n\" id=\"DejaVuSans-50\"/>\n      </defs>\n      <g transform=\"translate(264.815273 239.238438)scale(0.1 -0.1)\">\n       <use xlink:href=\"#DejaVuSans-50\"/>\n       <use x=\"63.623047\" xlink:href=\"#DejaVuSans-48\"/>\n       <use x=\"127.246094\" xlink:href=\"#DejaVuSans-48\"/>\n      </g>\n     </g>\n    </g>\n    <g id=\"xtick_6\">\n     <g id=\"line2d_6\">\n      <g>\n       <use style=\"stroke:#000000;stroke-width:0.8;\" x=\"325.255953\" xlink:href=\"#m67e73288ec\" y=\"224.64\"/>\n      </g>\n     </g>\n     <g id=\"text_6\">\n      <!-- 250 -->\n      <g transform=\"translate(315.712203 239.238438)scale(0.1 -0.1)\">\n       <use xlink:href=\"#DejaVuSans-50\"/>\n       <use x=\"63.623047\" xlink:href=\"#DejaVuSans-53\"/>\n       <use x=\"127.246094\" xlink:href=\"#DejaVuSans-48\"/>\n      </g>\n     </g>\n    </g>\n    <g id=\"xtick_7\">\n     <g id=\"line2d_7\">\n      <g>\n       <use style=\"stroke:#000000;stroke-width:0.8;\" x=\"376.152882\" xlink:href=\"#m67e73288ec\" y=\"224.64\"/>\n      </g>\n     </g>\n     <g id=\"text_7\">\n      <!-- 300 -->\n      <defs>\n       <path d=\"M 40.578125 39.3125 \nQ 47.65625 37.796875 51.625 33 \nQ 55.609375 28.21875 55.609375 21.1875 \nQ 55.609375 10.40625 48.1875 4.484375 \nQ 40.765625 -1.421875 27.09375 -1.421875 \nQ 22.515625 -1.421875 17.65625 -0.515625 \nQ 12.796875 0.390625 7.625 2.203125 \nL 7.625 11.71875 \nQ 11.71875 9.328125 16.59375 8.109375 \nQ 21.484375 6.890625 26.8125 6.890625 \nQ 36.078125 6.890625 40.9375 10.546875 \nQ 45.796875 14.203125 45.796875 21.1875 \nQ 45.796875 27.640625 41.28125 31.265625 \nQ 36.765625 34.90625 28.71875 34.90625 \nL 20.21875 34.90625 \nL 20.21875 43.015625 \nL 29.109375 43.015625 \nQ 36.375 43.015625 40.234375 45.921875 \nQ 44.09375 48.828125 44.09375 54.296875 \nQ 44.09375 59.90625 40.109375 62.90625 \nQ 36.140625 65.921875 28.71875 65.921875 \nQ 24.65625 65.921875 20.015625 65.03125 \nQ 15.375 64.15625 9.8125 62.3125 \nL 9.8125 71.09375 \nQ 15.4375 72.65625 20.34375 73.4375 \nQ 25.25 74.21875 29.59375 74.21875 \nQ 40.828125 74.21875 47.359375 69.109375 \nQ 53.90625 64.015625 53.90625 55.328125 \nQ 53.90625 49.265625 50.4375 45.09375 \nQ 46.96875 40.921875 40.578125 39.3125 \nz\n\" id=\"DejaVuSans-51\"/>\n      </defs>\n      <g transform=\"translate(366.609132 239.238438)scale(0.1 -0.1)\">\n       <use xlink:href=\"#DejaVuSans-51\"/>\n       <use x=\"63.623047\" xlink:href=\"#DejaVuSans-48\"/>\n       <use x=\"127.246094\" xlink:href=\"#DejaVuSans-48\"/>\n      </g>\n     </g>\n    </g>\n   </g>\n   <g id=\"matplotlib.axis_2\">\n    <g id=\"ytick_1\">\n     <g id=\"line2d_8\">\n      <defs>\n       <path d=\"M 0 0 \nL -3.5 0 \n\" id=\"mddd3a5b2d6\" style=\"stroke:#000000;stroke-width:0.8;\"/>\n      </defs>\n      <g>\n       <use style=\"stroke:#000000;stroke-width:0.8;\" x=\"55.553125\" xlink:href=\"#mddd3a5b2d6\" y=\"224.149069\"/>\n      </g>\n     </g>\n     <g id=\"text_8\">\n      <!-- 0.00210 -->\n      <defs>\n       <path d=\"M 10.6875 12.40625 \nL 21 12.40625 \nL 21 0 \nL 10.6875 0 \nz\n\" id=\"DejaVuSans-46\"/>\n      </defs>\n      <g transform=\"translate(7.2 227.948288)scale(0.1 -0.1)\">\n       <use xlink:href=\"#DejaVuSans-48\"/>\n       <use x=\"63.623047\" xlink:href=\"#DejaVuSans-46\"/>\n       <use x=\"95.410156\" xlink:href=\"#DejaVuSans-48\"/>\n       <use x=\"159.033203\" xlink:href=\"#DejaVuSans-48\"/>\n       <use x=\"222.65625\" xlink:href=\"#DejaVuSans-50\"/>\n       <use x=\"286.279297\" xlink:href=\"#DejaVuSans-49\"/>\n       <use x=\"349.902344\" xlink:href=\"#DejaVuSans-48\"/>\n      </g>\n     </g>\n    </g>\n    <g id=\"ytick_2\">\n     <g id=\"line2d_9\">\n      <g>\n       <use style=\"stroke:#000000;stroke-width:0.8;\" x=\"55.553125\" xlink:href=\"#mddd3a5b2d6\" y=\"198.265886\"/>\n      </g>\n     </g>\n     <g id=\"text_9\">\n      <!-- 0.00215 -->\n      <g transform=\"translate(7.2 202.065105)scale(0.1 -0.1)\">\n       <use xlink:href=\"#DejaVuSans-48\"/>\n       <use x=\"63.623047\" xlink:href=\"#DejaVuSans-46\"/>\n       <use x=\"95.410156\" xlink:href=\"#DejaVuSans-48\"/>\n       <use x=\"159.033203\" xlink:href=\"#DejaVuSans-48\"/>\n       <use x=\"222.65625\" xlink:href=\"#DejaVuSans-50\"/>\n       <use x=\"286.279297\" xlink:href=\"#DejaVuSans-49\"/>\n       <use x=\"349.902344\" xlink:href=\"#DejaVuSans-53\"/>\n      </g>\n     </g>\n    </g>\n    <g id=\"ytick_3\">\n     <g id=\"line2d_10\">\n      <g>\n       <use style=\"stroke:#000000;stroke-width:0.8;\" x=\"55.553125\" xlink:href=\"#mddd3a5b2d6\" y=\"172.382704\"/>\n      </g>\n     </g>\n     <g id=\"text_10\">\n      <!-- 0.00220 -->\n      <g transform=\"translate(7.2 176.181922)scale(0.1 -0.1)\">\n       <use xlink:href=\"#DejaVuSans-48\"/>\n       <use x=\"63.623047\" xlink:href=\"#DejaVuSans-46\"/>\n       <use x=\"95.410156\" xlink:href=\"#DejaVuSans-48\"/>\n       <use x=\"159.033203\" xlink:href=\"#DejaVuSans-48\"/>\n       <use x=\"222.65625\" xlink:href=\"#DejaVuSans-50\"/>\n       <use x=\"286.279297\" xlink:href=\"#DejaVuSans-50\"/>\n       <use x=\"349.902344\" xlink:href=\"#DejaVuSans-48\"/>\n      </g>\n     </g>\n    </g>\n    <g id=\"ytick_4\">\n     <g id=\"line2d_11\">\n      <g>\n       <use style=\"stroke:#000000;stroke-width:0.8;\" x=\"55.553125\" xlink:href=\"#mddd3a5b2d6\" y=\"146.499521\"/>\n      </g>\n     </g>\n     <g id=\"text_11\">\n      <!-- 0.00225 -->\n      <g transform=\"translate(7.2 150.29874)scale(0.1 -0.1)\">\n       <use xlink:href=\"#DejaVuSans-48\"/>\n       <use x=\"63.623047\" xlink:href=\"#DejaVuSans-46\"/>\n       <use x=\"95.410156\" xlink:href=\"#DejaVuSans-48\"/>\n       <use x=\"159.033203\" xlink:href=\"#DejaVuSans-48\"/>\n       <use x=\"222.65625\" xlink:href=\"#DejaVuSans-50\"/>\n       <use x=\"286.279297\" xlink:href=\"#DejaVuSans-50\"/>\n       <use x=\"349.902344\" xlink:href=\"#DejaVuSans-53\"/>\n      </g>\n     </g>\n    </g>\n    <g id=\"ytick_5\">\n     <g id=\"line2d_12\">\n      <g>\n       <use style=\"stroke:#000000;stroke-width:0.8;\" x=\"55.553125\" xlink:href=\"#mddd3a5b2d6\" y=\"120.616338\"/>\n      </g>\n     </g>\n     <g id=\"text_12\">\n      <!-- 0.00230 -->\n      <g transform=\"translate(7.2 124.415557)scale(0.1 -0.1)\">\n       <use xlink:href=\"#DejaVuSans-48\"/>\n       <use x=\"63.623047\" xlink:href=\"#DejaVuSans-46\"/>\n       <use x=\"95.410156\" xlink:href=\"#DejaVuSans-48\"/>\n       <use x=\"159.033203\" xlink:href=\"#DejaVuSans-48\"/>\n       <use x=\"222.65625\" xlink:href=\"#DejaVuSans-50\"/>\n       <use x=\"286.279297\" xlink:href=\"#DejaVuSans-51\"/>\n       <use x=\"349.902344\" xlink:href=\"#DejaVuSans-48\"/>\n      </g>\n     </g>\n    </g>\n    <g id=\"ytick_6\">\n     <g id=\"line2d_13\">\n      <g>\n       <use style=\"stroke:#000000;stroke-width:0.8;\" x=\"55.553125\" xlink:href=\"#mddd3a5b2d6\" y=\"94.733155\"/>\n      </g>\n     </g>\n     <g id=\"text_13\">\n      <!-- 0.00235 -->\n      <g transform=\"translate(7.2 98.532374)scale(0.1 -0.1)\">\n       <use xlink:href=\"#DejaVuSans-48\"/>\n       <use x=\"63.623047\" xlink:href=\"#DejaVuSans-46\"/>\n       <use x=\"95.410156\" xlink:href=\"#DejaVuSans-48\"/>\n       <use x=\"159.033203\" xlink:href=\"#DejaVuSans-48\"/>\n       <use x=\"222.65625\" xlink:href=\"#DejaVuSans-50\"/>\n       <use x=\"286.279297\" xlink:href=\"#DejaVuSans-51\"/>\n       <use x=\"349.902344\" xlink:href=\"#DejaVuSans-53\"/>\n      </g>\n     </g>\n    </g>\n    <g id=\"ytick_7\">\n     <g id=\"line2d_14\">\n      <g>\n       <use style=\"stroke:#000000;stroke-width:0.8;\" x=\"55.553125\" xlink:href=\"#mddd3a5b2d6\" y=\"68.849973\"/>\n      </g>\n     </g>\n     <g id=\"text_14\">\n      <!-- 0.00240 -->\n      <defs>\n       <path d=\"M 37.796875 64.3125 \nL 12.890625 25.390625 \nL 37.796875 25.390625 \nz\nM 35.203125 72.90625 \nL 47.609375 72.90625 \nL 47.609375 25.390625 \nL 58.015625 25.390625 \nL 58.015625 17.1875 \nL 47.609375 17.1875 \nL 47.609375 0 \nL 37.796875 0 \nL 37.796875 17.1875 \nL 4.890625 17.1875 \nL 4.890625 26.703125 \nz\n\" id=\"DejaVuSans-52\"/>\n      </defs>\n      <g transform=\"translate(7.2 72.649192)scale(0.1 -0.1)\">\n       <use xlink:href=\"#DejaVuSans-48\"/>\n       <use x=\"63.623047\" xlink:href=\"#DejaVuSans-46\"/>\n       <use x=\"95.410156\" xlink:href=\"#DejaVuSans-48\"/>\n       <use x=\"159.033203\" xlink:href=\"#DejaVuSans-48\"/>\n       <use x=\"222.65625\" xlink:href=\"#DejaVuSans-50\"/>\n       <use x=\"286.279297\" xlink:href=\"#DejaVuSans-52\"/>\n       <use x=\"349.902344\" xlink:href=\"#DejaVuSans-48\"/>\n      </g>\n     </g>\n    </g>\n    <g id=\"ytick_8\">\n     <g id=\"line2d_15\">\n      <g>\n       <use style=\"stroke:#000000;stroke-width:0.8;\" x=\"55.553125\" xlink:href=\"#mddd3a5b2d6\" y=\"42.96679\"/>\n      </g>\n     </g>\n     <g id=\"text_15\">\n      <!-- 0.00245 -->\n      <g transform=\"translate(7.2 46.766009)scale(0.1 -0.1)\">\n       <use xlink:href=\"#DejaVuSans-48\"/>\n       <use x=\"63.623047\" xlink:href=\"#DejaVuSans-46\"/>\n       <use x=\"95.410156\" xlink:href=\"#DejaVuSans-48\"/>\n       <use x=\"159.033203\" xlink:href=\"#DejaVuSans-48\"/>\n       <use x=\"222.65625\" xlink:href=\"#DejaVuSans-50\"/>\n       <use x=\"286.279297\" xlink:href=\"#DejaVuSans-52\"/>\n       <use x=\"349.902344\" xlink:href=\"#DejaVuSans-53\"/>\n      </g>\n     </g>\n    </g>\n    <g id=\"ytick_9\">\n     <g id=\"line2d_16\">\n      <g>\n       <use style=\"stroke:#000000;stroke-width:0.8;\" x=\"55.553125\" xlink:href=\"#mddd3a5b2d6\" y=\"17.083607\"/>\n      </g>\n     </g>\n     <g id=\"text_16\">\n      <!-- 0.00250 -->\n      <g transform=\"translate(7.2 20.882826)scale(0.1 -0.1)\">\n       <use xlink:href=\"#DejaVuSans-48\"/>\n       <use x=\"63.623047\" xlink:href=\"#DejaVuSans-46\"/>\n       <use x=\"95.410156\" xlink:href=\"#DejaVuSans-48\"/>\n       <use x=\"159.033203\" xlink:href=\"#DejaVuSans-48\"/>\n       <use x=\"222.65625\" xlink:href=\"#DejaVuSans-50\"/>\n       <use x=\"286.279297\" xlink:href=\"#DejaVuSans-53\"/>\n       <use x=\"349.902344\" xlink:href=\"#DejaVuSans-48\"/>\n      </g>\n     </g>\n    </g>\n   </g>\n   <g id=\"line2d_17\">\n    <path clip-path=\"url(#pee4f4c1b26)\" d=\"M 70.771307 17.083636 \nL 71.789245 25.015099 \nL 72.807184 28.572844 \nL 73.825123 29.247921 \nL 74.843061 29.244185 \nL 76.878938 30.1197 \nL 79.932754 31.622563 \nL 81.968631 32.413347 \nL 84.004508 33.05781 \nL 86.040386 33.412403 \nL 88.076263 33.67431 \nL 90.11214 34.309011 \nL 91.130078 34.693736 \nL 94.183894 35.542373 \nL 96.219771 36.30652 \nL 98.255649 36.998471 \nL 101.309464 38.554367 \nL 104.36328 40.67132 \nL 106.399157 42.305559 \nL 109.452973 45.493523 \nL 111.48885 48.241681 \nL 113.524727 51.631892 \nL 115.560604 55.920277 \nL 117.596482 61.244238 \nL 118.61442 64.328428 \nL 119.632359 67.872432 \nL 120.650297 71.99714 \nL 121.668236 76.768842 \nL 122.686175 82.233941 \nL 123.704113 86.800023 \nL 125.73999 101.248674 \nL 126.757929 109.116136 \nL 127.775867 118.145368 \nL 128.793806 125.203244 \nL 129.811745 94.496938 \nL 130.829683 121.225581 \nL 131.847622 101.095483 \nL 132.86556 109.316574 \nL 133.883499 127.595001 \nL 134.901438 132.262447 \nL 135.919376 126.314512 \nL 136.937315 126.412019 \nL 138.973192 144.847012 \nL 139.99113 146.977223 \nL 141.009069 146.188006 \nL 142.027008 152.058441 \nL 143.044946 161.379833 \nL 144.062885 162.506528 \nL 145.080823 158.529949 \nL 146.098762 161.804935 \nL 147.116701 164.018069 \nL 148.134639 161.373927 \nL 149.152578 163.938641 \nL 150.170516 169.942983 \nL 151.188455 171.30977 \nL 152.206393 170.87611 \nL 153.224332 173.031632 \nL 154.242271 174.261017 \nL 155.260209 174.201597 \nL 156.278148 175.414229 \nL 157.296086 176.864421 \nL 158.314025 177.514067 \nL 159.331964 178.84108 \nL 160.349902 179.688753 \nL 161.367841 179.526764 \nL 162.385779 181.31106 \nL 163.403718 181.810889 \nL 164.421656 182.798254 \nL 165.439595 183.390167 \nL 166.457534 183.785137 \nL 167.475472 184.344748 \nL 168.493411 184.734295 \nL 169.511349 185.285107 \nL 170.529288 186.190152 \nL 171.547227 186.561499 \nL 172.565165 187.119181 \nL 173.583104 187.543922 \nL 174.601042 188.355919 \nL 175.618981 188.494888 \nL 176.636919 189.459835 \nL 177.654858 189.795987 \nL 178.672797 189.85372 \nL 179.690735 190.41526 \nL 180.708674 191.182179 \nL 183.76249 192.011773 \nL 184.780428 192.517629 \nL 186.816305 193.026257 \nL 187.834244 193.121956 \nL 188.852182 192.279225 \nL 189.870121 189.763565 \nL 190.88806 186.577649 \nL 191.905998 192.879454 \nL 192.923937 193.353972 \nL 193.941875 192.572951 \nL 194.959814 194.651697 \nL 195.977753 193.148111 \nL 196.995691 195.099338 \nL 198.01363 194.023264 \nL 199.031568 195.225048 \nL 200.049507 195.41259 \nL 201.067445 195.406925 \nL 202.085384 196.588099 \nL 203.103323 196.013181 \nL 204.121261 197.194475 \nL 205.1392 197.034173 \nL 207.175077 198.015391 \nL 208.193016 197.91017 \nL 209.210954 198.531733 \nL 210.228893 198.405781 \nL 211.246831 198.48087 \nL 212.26477 199.065431 \nL 213.282708 199.204761 \nL 214.300647 199.194034 \nL 215.318586 199.654572 \nL 220.408279 200.515021 \nL 221.426217 200.832491 \nL 227.533849 201.859872 \nL 229.569726 202.212778 \nL 237.713234 203.556905 \nL 241.784989 204.207997 \nL 254.000252 206.031706 \nL 269.269331 208.014632 \nL 285.556348 209.682498 \nL 296.753672 210.558977 \nL 313.04069 211.603955 \nL 342.560909 213.165997 \nL 351.722356 213.590738 \nL 353.758233 213.724765 \nL 356.812049 213.827334 \nL 360.883803 214.046333 \nL 364.955557 214.258945 \nL 375.134943 214.756364 \nL 375.134943 214.756364 \n\" style=\"fill:none;stroke:#1f77b4;stroke-linecap:square;stroke-width:1.5;\"/>\n   </g>\n   <g id=\"patch_3\">\n    <path d=\"M 55.553125 224.64 \nL 55.553125 7.2 \n\" style=\"fill:none;stroke:#000000;stroke-linecap:square;stroke-linejoin:miter;stroke-width:0.8;\"/>\n   </g>\n   <g id=\"patch_4\">\n    <path d=\"M 390.353125 224.64 \nL 390.353125 7.2 \n\" style=\"fill:none;stroke:#000000;stroke-linecap:square;stroke-linejoin:miter;stroke-width:0.8;\"/>\n   </g>\n   <g id=\"patch_5\">\n    <path d=\"M 55.553125 224.64 \nL 390.353125 224.64 \n\" style=\"fill:none;stroke:#000000;stroke-linecap:square;stroke-linejoin:miter;stroke-width:0.8;\"/>\n   </g>\n   <g id=\"patch_6\">\n    <path d=\"M 55.553125 7.2 \nL 390.353125 7.2 \n\" style=\"fill:none;stroke:#000000;stroke-linecap:square;stroke-linejoin:miter;stroke-width:0.8;\"/>\n   </g>\n  </g>\n </g>\n <defs>\n  <clipPath id=\"pee4f4c1b26\">\n   <rect height=\"217.44\" width=\"334.8\" x=\"55.553125\" y=\"7.2\"/>\n  </clipPath>\n </defs>\n</svg>\n",
      "image/png": "[encoded data removed]"
     },
     "metadata": {
      "needs_background": "light"
     }
    }
   ],
   "source": [
    "\n",
    "plt.plot(hist.history['loss'])"
   ]
  },
  {
   "cell_type": "markdown",
   "metadata": {},
   "source": [
    "# Learning the Embedding"
   ]
  },
  {
   "cell_type": "markdown",
   "metadata": {},
   "source": [
    "### just the encoder"
   ]
  },
  {
   "cell_type": "code",
   "execution_count": 24,
   "metadata": {},
   "outputs": [
    {
     "output_type": "stream",
     "name": "stdout",
     "text": "Model: \"model_3\"\n_________________________________________________________________\nLayer (type)                 Output Shape              Param #   \n=================================================================\nlstm_5_input (InputLayer)    (None, 400, 13)           0         \n_________________________________________________________________\nlstm_5 (LSTM)                (None, 400, 128)          72704     \n=================================================================\nTotal params: 72,704\nTrainable params: 72,704\nNon-trainable params: 0\n_________________________________________________________________\n"
    }
   ],
   "source": [
    "from keras.models import Model\n",
    "from keras.utils import plot_model\n",
    "modelEnc = Model(inputs=model.inputs, outputs=model.layers[0].output)\n",
    "modelEnc.summary()"
   ]
  },
  {
   "cell_type": "code",
   "execution_count": 25,
   "metadata": {},
   "outputs": [],
   "source": [
    "Embedding=modelEnc.predict(input[0][np.newaxis, :])"
   ]
  },
  {
   "cell_type": "code",
   "execution_count": 26,
   "metadata": {},
   "outputs": [
    {
     "output_type": "stream",
     "name": "stdout",
     "text": "Embedding\n[[[0.         0.00830072 0.01347106 ... 0.         0.02518326 0.02375103]\n  [0.00474491 0.01447491 0.02231676 ... 0.00296376 0.04451879 0.03307464]\n  [0.01201818 0.01515392 0.02809324 ... 0.00621294 0.05951793 0.04259395]\n  ...\n  [0.00915679 0.01971147 0.         ... 0.03831594 0.03121482 0.        ]\n  [0.00915679 0.01971147 0.         ... 0.03831594 0.03121482 0.        ]\n  [0.00915679 0.01971147 0.         ... 0.03831594 0.03121482 0.        ]]]\n"
    }
   ],
   "source": [
    "print('Embedding')\n",
    "print(Embedding)"
   ]
  },
  {
   "cell_type": "code",
   "execution_count": null,
   "metadata": {},
   "outputs": [],
   "source": []
  }
 ],
 "metadata": {
  "language_info": {
   "codemirror_mode": {
    "name": "ipython",
    "version": 3
   },
   "file_extension": ".py",
   "mimetype": "text/x-python",
   "name": "python",
   "nbconvert_exporter": "python",
   "pygments_lexer": "ipython3",
   "version": "3.6.9-final"
  },
  "orig_nbformat": 2,
  "kernelspec": {
   "name": "python36964bit4dfc7929655c4c7cbc725bd732c1ed4a",
   "display_name": "Python 3.6.9 64-bit"
  }
 },
 "nbformat": 4,
 "nbformat_minor": 2
}