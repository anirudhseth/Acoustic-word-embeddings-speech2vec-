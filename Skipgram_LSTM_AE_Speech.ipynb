{
 "cells": [
  {
   "cell_type": "code",
   "execution_count": 27,
   "metadata": {},
   "outputs": [],
   "source": [
    "import numpy as np\n",
    "from keras.models import Sequential\n",
    "from keras.layers import LSTM,Bidirectional\n",
    "from keras.layers import Dense\n",
    "from keras.layers import RepeatVector\n",
    "from keras.layers import TimeDistributed\n",
    "from keras.models import Model\n",
    "from keras.utils import plot_model\n",
    "import torch\n",
    "from sklearn.preprocessing import normalize\n",
    "import matplotlib.pyplot as plt"
   ]
  },
  {
   "cell_type": "code",
   "execution_count": 2,
   "metadata": {},
   "outputs": [],
   "source": [
    "mfcc = torch.load('Mfcc_feature.pt')"
   ]
  },
  {
   "cell_type": "code",
   "execution_count": 3,
   "metadata": {},
   "outputs": [],
   "source": [
    "input=[]\n",
    "for m in mfcc['mfcc']:\n",
    "    norm=normalize(m,axis=1)\n",
    "    input.append(norm)"
   ]
  },
  {
   "cell_type": "code",
   "execution_count": 4,
   "metadata": {},
   "outputs": [],
   "source": [
    "input=np.asarray(input).transpose(0,2,1)"
   ]
  },
  {
   "cell_type": "code",
   "execution_count": 5,
   "metadata": {},
   "outputs": [
    {
     "output_type": "execute_result",
     "data": {
      "text/plain": "(400, 13)"
     },
     "metadata": {},
     "execution_count": 5
    }
   ],
   "source": [
    "input[0].shape"
   ]
  },
  {
   "cell_type": "code",
   "execution_count": 6,
   "metadata": {},
   "outputs": [],
   "source": [
    "timesteps = 400\n",
    "n_features = 13"
   ]
  },
  {
   "cell_type": "code",
   "execution_count": 28,
   "metadata": {},
   "outputs": [],
   "source": [
    "model = Sequential()\n",
    "model.add(Bidirectional(LSTM(10, activation='relu', input_shape=(timesteps,n_features), return_sequences=False)))\n",
    "model.add(RepeatVector(timesteps))\n",
    "model.add(LSTM(10, activation='relu', return_sequences=True))\n",
    "model.add(TimeDistributed(Dense(n_features)))\n",
    "model.compile(optimizer='adam', loss='mse')\n",
    "# model.summary()"
   ]
  },
  {
   "cell_type": "code",
   "execution_count": 29,
   "metadata": {
    "tags": [
     "outputPrepend",
     "outputPrepend",
     "outputPrepend",
     "outputPrepend",
     "outputPrepend",
     "outputPrepend",
     "outputPrepend",
     "outputPrepend",
     "outputPrepend",
     "outputPrepend",
     "outputPrepend",
     "outputPrepend",
     "outputPrepend",
     "outputPrepend",
     "outputPrepend",
     "outputPrepend",
     "outputPrepend",
     "outputPrepend",
     "outputPrepend",
     "outputPrepend",
     "outputPrepend",
     "outputPrepend",
     "outputPrepend",
     "outputPrepend",
     "outputPrepend",
     "outputPrepend",
     "outputPrepend",
     "outputPrepend",
     "outputPrepend",
     "outputPrepend",
     "outputPrepend",
     "outputPrepend",
     "outputPrepend",
     "outputPrepend",
     "outputPrepend",
     "outputPrepend",
     "outputPrepend",
     "outputPrepend",
     "outputPrepend",
     "outputPrepend",
     "outputPrepend",
     "outputPrepend",
     "outputPrepend",
     "outputPrepend",
     "outputPrepend",
     "outputPrepend",
     "outputPrepend",
     "outputPrepend",
     "outputPrepend",
     "outputPrepend",
     "outputPrepend",
     "outputPrepend",
     "outputPrepend",
     "outputPrepend",
     "outputPrepend",
     "outputPrepend",
     "outputPrepend",
     "outputPrepend",
     "outputPrepend",
     "outputPrepend",
     "outputPrepend",
     "outputPrepend",
     "outputPrepend",
     "outputPrepend",
     "outputPrepend",
     "outputPrepend",
     "outputPrepend",
     "outputPrepend",
     "outputPrepend",
     "outputPrepend",
     "outputPrepend",
     "outputPrepend",
     "outputPrepend",
     "outputPrepend",
     "outputPrepend",
     "outputPrepend",
     "outputPrepend",
     "outputPrepend",
     "outputPrepend",
     "outputPrepend",
     "outputPrepend",
     "outputPrepend",
     "outputPrepend",
     "outputPrepend",
     "outputPrepend",
     "outputPrepend",
     "outputPrepend",
     "outputPrepend",
     "outputPrepend",
     "outputPrepend",
     "outputPrepend",
     "outputPrepend",
     "outputPrepend",
     "outputPrepend",
     "outputPrepend",
     "outputPrepend",
     "outputPrepend",
     "outputPrepend",
     "outputPrepend",
     "outputPrepend",
     "outputPrepend",
     "outputPrepend",
     "outputPrepend",
     "outputPrepend",
     "outputPrepend",
     "outputPrepend",
     "outputPrepend",
     "outputPrepend",
     "outputPrepend",
     "outputPrepend",
     "outputPrepend",
     "outputPrepend",
     "outputPrepend",
     "outputPrepend",
     "outputPrepend"
    ]
   },
   "outputs": [
    {
     "output_type": "stream",
     "name": "stdout",
     "text": "=====] - 0s 21ms/step - loss: 0.0025\nEpoch 60/300\n20/20 [==============================] - 0s 14ms/step - loss: 0.0025\nEpoch 61/300\n20/20 [==============================] - 0s 14ms/step - loss: 0.0025\nEpoch 62/300\n20/20 [==============================] - 0s 14ms/step - loss: 0.0025\nEpoch 63/300\n20/20 [==============================] - 0s 15ms/step - loss: 0.0025\nEpoch 64/300\n20/20 [==============================] - 0s 15ms/step - loss: 0.0025\nEpoch 65/300\n20/20 [==============================] - 0s 14ms/step - loss: 0.0025\nEpoch 66/300\n20/20 [==============================] - 0s 16ms/step - loss: 0.0025\nEpoch 67/300\n20/20 [==============================] - 0s 14ms/step - loss: 0.0025\nEpoch 68/300\n20/20 [==============================] - 0s 14ms/step - loss: 0.0025\nEpoch 69/300\n20/20 [==============================] - 0s 14ms/step - loss: 0.0025\nEpoch 70/300\n20/20 [==============================] - 0s 15ms/step - loss: 0.0025\nEpoch 71/300\n20/20 [==============================] - 0s 14ms/step - loss: 0.0025\nEpoch 72/300\n20/20 [==============================] - 0s 14ms/step - loss: 0.0025\nEpoch 73/300\n20/20 [==============================] - 0s 16ms/step - loss: 0.0025\nEpoch 74/300\n20/20 [==============================] - 0s 14ms/step - loss: 0.0025\nEpoch 75/300\n20/20 [==============================] - 0s 14ms/step - loss: 0.0025\nEpoch 76/300\n20/20 [==============================] - 0s 14ms/step - loss: 0.0025\nEpoch 77/300\n20/20 [==============================] - 0s 16ms/step - loss: 0.0025\nEpoch 78/300\n20/20 [==============================] - 0s 13ms/step - loss: 0.0025\nEpoch 79/300\n20/20 [==============================] - 0s 14ms/step - loss: 0.0025\nEpoch 80/300\n20/20 [==============================] - 0s 15ms/step - loss: 0.0025\nEpoch 81/300\n20/20 [==============================] - 0s 14ms/step - loss: 0.0025\nEpoch 82/300\n20/20 [==============================] - 0s 16ms/step - loss: 0.0025\nEpoch 83/300\n20/20 [==============================] - 0s 16ms/step - loss: 0.0025\nEpoch 84/300\n20/20 [==============================] - 0s 16ms/step - loss: 0.0025\nEpoch 85/300\n20/20 [==============================] - 0s 16ms/step - loss: 0.0025\nEpoch 86/300\n20/20 [==============================] - 0s 14ms/step - loss: 0.0025\nEpoch 87/300\n20/20 [==============================] - 0s 17ms/step - loss: 0.0025\nEpoch 88/300\n20/20 [==============================] - 0s 15ms/step - loss: 0.0025\nEpoch 89/300\n20/20 [==============================] - 0s 14ms/step - loss: 0.0025\nEpoch 90/300\n20/20 [==============================] - 0s 15ms/step - loss: 0.0025\nEpoch 91/300\n20/20 [==============================] - 0s 14ms/step - loss: 0.0025\nEpoch 92/300\n20/20 [==============================] - 0s 14ms/step - loss: 0.0025\nEpoch 93/300\n20/20 [==============================] - 0s 15ms/step - loss: 0.0025\nEpoch 94/300\n20/20 [==============================] - 0s 18ms/step - loss: 0.0025\nEpoch 95/300\n20/20 [==============================] - 0s 16ms/step - loss: 0.0025\nEpoch 96/300\n20/20 [==============================] - 0s 15ms/step - loss: 0.0025\nEpoch 97/300\n20/20 [==============================] - 0s 19ms/step - loss: 0.0025\nEpoch 98/300\n20/20 [==============================] - 0s 16ms/step - loss: 0.0025\nEpoch 99/300\n20/20 [==============================] - 0s 16ms/step - loss: 0.0025\nEpoch 100/300\n20/20 [==============================] - 0s 18ms/step - loss: 0.0025\nEpoch 101/300\n20/20 [==============================] - 0s 16ms/step - loss: 0.0025\nEpoch 102/300\n20/20 [==============================] - 0s 16ms/step - loss: 0.0025\nEpoch 103/300\n20/20 [==============================] - 0s 18ms/step - loss: 0.0025\nEpoch 104/300\n20/20 [==============================] - 0s 16ms/step - loss: 0.0025\nEpoch 105/300\n20/20 [==============================] - 0s 15ms/step - loss: 0.0025\nEpoch 106/300\n20/20 [==============================] - 0s 17ms/step - loss: 0.0025\nEpoch 107/300\n20/20 [==============================] - 0s 17ms/step - loss: 0.0025\nEpoch 108/300\n20/20 [==============================] - 0s 16ms/step - loss: 0.0025\nEpoch 109/300\n20/20 [==============================] - 0s 17ms/step - loss: 0.0025\nEpoch 110/300\n20/20 [==============================] - 0s 16ms/step - loss: 0.0025\nEpoch 111/300\n20/20 [==============================] - 0s 15ms/step - loss: 0.0025\nEpoch 112/300\n20/20 [==============================] - 0s 16ms/step - loss: 0.0025\nEpoch 113/300\n20/20 [==============================] - 0s 17ms/step - loss: 0.0025\nEpoch 114/300\n20/20 [==============================] - 0s 16ms/step - loss: 0.0025\nEpoch 115/300\n20/20 [==============================] - 0s 16ms/step - loss: 0.0025\nEpoch 116/300\n20/20 [==============================] - 0s 17ms/step - loss: 0.0025\nEpoch 117/300\n20/20 [==============================] - 0s 16ms/step - loss: 0.0025\nEpoch 118/300\n20/20 [==============================] - 0s 16ms/step - loss: 0.0025\nEpoch 119/300\n20/20 [==============================] - 0s 17ms/step - loss: 0.0025\nEpoch 120/300\n20/20 [==============================] - 0s 15ms/step - loss: 0.0025\nEpoch 121/300\n20/20 [==============================] - 0s 16ms/step - loss: 0.0025\nEpoch 122/300\n20/20 [==============================] - 0s 18ms/step - loss: 0.0025\nEpoch 123/300\n20/20 [==============================] - 0s 18ms/step - loss: 0.0025\nEpoch 124/300\n20/20 [==============================] - 0s 17ms/step - loss: 0.0025\nEpoch 125/300\n20/20 [==============================] - 0s 19ms/step - loss: 0.0025\nEpoch 126/300\n20/20 [==============================] - 0s 18ms/step - loss: 0.0025\nEpoch 127/300\n20/20 [==============================] - 0s 17ms/step - loss: 0.0025\nEpoch 128/300\n20/20 [==============================] - 0s 19ms/step - loss: 0.0025\nEpoch 129/300\n20/20 [==============================] - 0s 21ms/step - loss: 0.0025\nEpoch 130/300\n20/20 [==============================] - 0s 21ms/step - loss: 0.0025\nEpoch 131/300\n20/20 [==============================] - 0s 20ms/step - loss: 0.0025\nEpoch 132/300\n20/20 [==============================] - 0s 19ms/step - loss: 0.0025\nEpoch 133/300\n20/20 [==============================] - 0s 20ms/step - loss: 0.0025\nEpoch 134/300\n20/20 [==============================] - 0s 16ms/step - loss: 0.0025\nEpoch 135/300\n20/20 [==============================] - 0s 18ms/step - loss: 0.0025\nEpoch 136/300\n20/20 [==============================] - 0s 21ms/step - loss: 0.0025\nEpoch 137/300\n20/20 [==============================] - 0s 18ms/step - loss: 0.0025\nEpoch 138/300\n20/20 [==============================] - 0s 18ms/step - loss: 0.0025\nEpoch 139/300\n20/20 [==============================] - 0s 18ms/step - loss: 0.0025\nEpoch 140/300\n20/20 [==============================] - 0s 17ms/step - loss: 0.0025\nEpoch 141/300\n20/20 [==============================] - 0s 18ms/step - loss: 0.0025\nEpoch 142/300\n20/20 [==============================] - 0s 17ms/step - loss: 0.0025\nEpoch 143/300\n20/20 [==============================] - 0s 16ms/step - loss: 0.0025\nEpoch 144/300\n20/20 [==============================] - 0s 16ms/step - loss: 0.0025\nEpoch 145/300\n20/20 [==============================] - 0s 17ms/step - loss: 0.0025\nEpoch 146/300\n20/20 [==============================] - 0s 16ms/step - loss: 0.0025\nEpoch 147/300\n20/20 [==============================] - 0s 15ms/step - loss: 0.0025\nEpoch 148/300\n20/20 [==============================] - 0s 17ms/step - loss: 0.0025\nEpoch 149/300\n20/20 [==============================] - 0s 16ms/step - loss: 0.0025\nEpoch 150/300\n20/20 [==============================] - 0s 17ms/step - loss: 0.0025\nEpoch 151/300\n20/20 [==============================] - 0s 18ms/step - loss: 0.0025\nEpoch 152/300\n20/20 [==============================] - 0s 16ms/step - loss: 0.0025\nEpoch 153/300\n20/20 [==============================] - 0s 16ms/step - loss: 0.0025\nEpoch 154/300\n20/20 [==============================] - 0s 17ms/step - loss: 0.0025\nEpoch 155/300\n20/20 [==============================] - 0s 16ms/step - loss: 0.0025\nEpoch 156/300\n20/20 [==============================] - 0s 16ms/step - loss: 0.0025\nEpoch 157/300\n20/20 [==============================] - 0s 18ms/step - loss: 0.0025\nEpoch 158/300\n20/20 [==============================] - 0s 16ms/step - loss: 0.0025\nEpoch 159/300\n20/20 [==============================] - 0s 17ms/step - loss: 0.0025\nEpoch 160/300\n20/20 [==============================] - 0s 19ms/step - loss: 0.0025\nEpoch 161/300\n20/20 [==============================] - 0s 19ms/step - loss: 0.0025\nEpoch 162/300\n20/20 [==============================] - 0s 16ms/step - loss: 0.0025\nEpoch 163/300\n20/20 [==============================] - 0s 17ms/step - loss: 0.0025\nEpoch 164/300\n20/20 [==============================] - 0s 16ms/step - loss: 0.0025\nEpoch 165/300\n20/20 [==============================] - 0s 16ms/step - loss: 0.0025\nEpoch 166/300\n20/20 [==============================] - 0s 16ms/step - loss: 0.0025\nEpoch 167/300\n20/20 [==============================] - 0s 16ms/step - loss: 0.0025\nEpoch 168/300\n20/20 [==============================] - 0s 16ms/step - loss: 0.0025\nEpoch 169/300\n20/20 [==============================] - 0s 16ms/step - loss: 0.0025\nEpoch 170/300\n20/20 [==============================] - 0s 17ms/step - loss: 0.0025\nEpoch 171/300\n20/20 [==============================] - 0s 17ms/step - loss: 0.0025\nEpoch 172/300\n20/20 [==============================] - 0s 17ms/step - loss: 0.0025\nEpoch 173/300\n20/20 [==============================] - 0s 22ms/step - loss: 0.0025\nEpoch 174/300\n20/20 [==============================] - 0s 18ms/step - loss: 0.0025\nEpoch 175/300\n20/20 [==============================] - 0s 19ms/step - loss: 0.0025\nEpoch 176/300\n20/20 [==============================] - 0s 18ms/step - loss: 0.0025\nEpoch 177/300\n20/20 [==============================] - 0s 19ms/step - loss: 0.0025\nEpoch 178/300\n20/20 [==============================] - 0s 21ms/step - loss: 0.0025\nEpoch 179/300\n20/20 [==============================] - 0s 18ms/step - loss: 0.0025\nEpoch 180/300\n20/20 [==============================] - 0s 18ms/step - loss: 0.0025\nEpoch 181/300\n20/20 [==============================] - 0s 19ms/step - loss: 0.0025\nEpoch 182/300\n20/20 [==============================] - 0s 18ms/step - loss: 0.0025\nEpoch 183/300\n20/20 [==============================] - 0s 18ms/step - loss: 0.0025\nEpoch 184/300\n20/20 [==============================] - 0s 20ms/step - loss: 0.0025\nEpoch 185/300\n20/20 [==============================] - 0s 20ms/step - loss: 0.0025\nEpoch 186/300\n20/20 [==============================] - 0s 22ms/step - loss: 0.0025\nEpoch 187/300\n20/20 [==============================] - 0s 21ms/step - loss: 0.0025\nEpoch 188/300\n20/20 [==============================] - 0s 20ms/step - loss: 0.0025\nEpoch 189/300\n20/20 [==============================] - 0s 22ms/step - loss: 0.0025\nEpoch 190/300\n20/20 [==============================] - 0s 18ms/step - loss: 0.0025\nEpoch 191/300\n20/20 [==============================] - 0s 21ms/step - loss: 0.0025\nEpoch 192/300\n20/20 [==============================] - 0s 21ms/step - loss: 0.0025\nEpoch 193/300\n20/20 [==============================] - 0s 21ms/step - loss: 0.0025\nEpoch 194/300\n20/20 [==============================] - 0s 21ms/step - loss: 0.0025\nEpoch 195/300\n20/20 [==============================] - 0s 19ms/step - loss: 0.0025\nEpoch 196/300\n20/20 [==============================] - 0s 20ms/step - loss: 0.0025\nEpoch 197/300\n20/20 [==============================] - 0s 18ms/step - loss: 0.0025\nEpoch 198/300\n20/20 [==============================] - 0s 18ms/step - loss: 0.0025\nEpoch 199/300\n20/20 [==============================] - 0s 20ms/step - loss: 0.0025\nEpoch 200/300\n20/20 [==============================] - 0s 19ms/step - loss: 0.0025\nEpoch 201/300\n20/20 [==============================] - 0s 18ms/step - loss: 0.0025\nEpoch 202/300\n20/20 [==============================] - 0s 20ms/step - loss: 0.0025\nEpoch 203/300\n20/20 [==============================] - 0s 18ms/step - loss: 0.0025\nEpoch 204/300\n20/20 [==============================] - 0s 18ms/step - loss: 0.0025\nEpoch 205/300\n20/20 [==============================] - 0s 19ms/step - loss: 0.0025\nEpoch 206/300\n20/20 [==============================] - 0s 18ms/step - loss: 0.0025\nEpoch 207/300\n20/20 [==============================] - 0s 19ms/step - loss: 0.0025\nEpoch 208/300\n20/20 [==============================] - 0s 19ms/step - loss: 0.0025\nEpoch 209/300\n20/20 [==============================] - 0s 18ms/step - loss: 0.0025\nEpoch 210/300\n20/20 [==============================] - 0s 22ms/step - loss: 0.0025\nEpoch 211/300\n20/20 [==============================] - 0s 18ms/step - loss: 0.0025\nEpoch 212/300\n20/20 [==============================] - 0s 18ms/step - loss: 0.0025\nEpoch 213/300\n20/20 [==============================] - 0s 20ms/step - loss: 0.0025\nEpoch 214/300\n20/20 [==============================] - 0s 18ms/step - loss: 0.0025\nEpoch 215/300\n20/20 [==============================] - 0s 18ms/step - loss: 0.0025\nEpoch 216/300\n20/20 [==============================] - 0s 20ms/step - loss: 0.0025\nEpoch 217/300\n20/20 [==============================] - 0s 18ms/step - loss: 0.0025\nEpoch 218/300\n20/20 [==============================] - 0s 20ms/step - loss: 0.0025\nEpoch 219/300\n20/20 [==============================] - 0s 19ms/step - loss: 0.0025\nEpoch 220/300\n20/20 [==============================] - 0s 18ms/step - loss: 0.0025\nEpoch 221/300\n20/20 [==============================] - 0s 19ms/step - loss: 0.0025\nEpoch 222/300\n20/20 [==============================] - 0s 20ms/step - loss: 0.0025\nEpoch 223/300\n20/20 [==============================] - 0s 20ms/step - loss: 0.0025\nEpoch 224/300\n20/20 [==============================] - 0s 22ms/step - loss: 0.0025\nEpoch 225/300\n20/20 [==============================] - 0s 20ms/step - loss: 0.0025\nEpoch 226/300\n20/20 [==============================] - 0s 22ms/step - loss: 0.0025\nEpoch 227/300\n20/20 [==============================] - 0s 20ms/step - loss: 0.0025\nEpoch 228/300\n20/20 [==============================] - 0s 20ms/step - loss: 0.0025\nEpoch 229/300\n20/20 [==============================] - 0s 19ms/step - loss: 0.0025\nEpoch 230/300\n20/20 [==============================] - 0s 18ms/step - loss: 0.0025\nEpoch 231/300\n20/20 [==============================] - 0s 19ms/step - loss: 0.0025\nEpoch 232/300\n20/20 [==============================] - 0s 20ms/step - loss: 0.0025\nEpoch 233/300\n20/20 [==============================] - 0s 18ms/step - loss: 0.0025\nEpoch 234/300\n20/20 [==============================] - 0s 19ms/step - loss: 0.0025\nEpoch 235/300\n20/20 [==============================] - 0s 19ms/step - loss: 0.0025\nEpoch 236/300\n20/20 [==============================] - 0s 20ms/step - loss: 0.0025\nEpoch 237/300\n20/20 [==============================] - 0s 22ms/step - loss: 0.0025\nEpoch 238/300\n20/20 [==============================] - 0s 19ms/step - loss: 0.0025\nEpoch 239/300\n20/20 [==============================] - 0s 21ms/step - loss: 0.0025\nEpoch 240/300\n20/20 [==============================] - 0s 20ms/step - loss: 0.0025\nEpoch 241/300\n20/20 [==============================] - 0s 21ms/step - loss: 0.0025\nEpoch 242/300\n20/20 [==============================] - 0s 23ms/step - loss: 0.0025\nEpoch 243/300\n20/20 [==============================] - 0s 20ms/step - loss: 0.0025\nEpoch 244/300\n20/20 [==============================] - 0s 18ms/step - loss: 0.0025\nEpoch 245/300\n20/20 [==============================] - 0s 20ms/step - loss: 0.0025\nEpoch 246/300\n20/20 [==============================] - 0s 18ms/step - loss: 0.0025\nEpoch 247/300\n20/20 [==============================] - 0s 22ms/step - loss: 0.0025\nEpoch 248/300\n20/20 [==============================] - 0s 18ms/step - loss: 0.0025\nEpoch 249/300\n20/20 [==============================] - 0s 20ms/step - loss: 0.0025\nEpoch 250/300\n20/20 [==============================] - 0s 19ms/step - loss: 0.0025\nEpoch 251/300\n20/20 [==============================] - 0s 19ms/step - loss: 0.0025\nEpoch 252/300\n20/20 [==============================] - 0s 20ms/step - loss: 0.0025\nEpoch 253/300\n20/20 [==============================] - 0s 19ms/step - loss: 0.0025\nEpoch 254/300\n20/20 [==============================] - 0s 17ms/step - loss: 0.0025\nEpoch 255/300\n20/20 [==============================] - 0s 19ms/step - loss: 0.0025\nEpoch 256/300\n20/20 [==============================] - 0s 17ms/step - loss: 0.0025\nEpoch 257/300\n20/20 [==============================] - 0s 16ms/step - loss: 0.0025\nEpoch 258/300\n20/20 [==============================] - 0s 18ms/step - loss: 0.0025\nEpoch 259/300\n20/20 [==============================] - 0s 18ms/step - loss: 0.0025\nEpoch 260/300\n20/20 [==============================] - 0s 17ms/step - loss: 0.0025\nEpoch 261/300\n20/20 [==============================] - 0s 19ms/step - loss: 0.0025\nEpoch 262/300\n20/20 [==============================] - 0s 17ms/step - loss: 0.0025\nEpoch 263/300\n20/20 [==============================] - 0s 17ms/step - loss: 0.0025\nEpoch 264/300\n20/20 [==============================] - 0s 19ms/step - loss: 0.0025\nEpoch 265/300\n20/20 [==============================] - 0s 17ms/step - loss: 0.0025\nEpoch 266/300\n20/20 [==============================] - 0s 18ms/step - loss: 0.0025\nEpoch 267/300\n20/20 [==============================] - 0s 19ms/step - loss: 0.0025\nEpoch 268/300\n20/20 [==============================] - 0s 17ms/step - loss: 0.0025\nEpoch 269/300\n20/20 [==============================] - 0s 17ms/step - loss: 0.0025\nEpoch 270/300\n20/20 [==============================] - 0s 19ms/step - loss: 0.0025\nEpoch 271/300\n20/20 [==============================] - 0s 17ms/step - loss: 0.0025\nEpoch 272/300\n20/20 [==============================] - 0s 17ms/step - loss: 0.0025\nEpoch 273/300\n20/20 [==============================] - 0s 21ms/step - loss: 0.0025\nEpoch 274/300\n20/20 [==============================] - 0s 18ms/step - loss: 0.0025\nEpoch 275/300\n20/20 [==============================] - 0s 17ms/step - loss: 0.0025\nEpoch 276/300\n20/20 [==============================] - 0s 19ms/step - loss: 0.0025\nEpoch 277/300\n20/20 [==============================] - 0s 17ms/step - loss: 0.0025\nEpoch 278/300\n20/20 [==============================] - 0s 18ms/step - loss: 0.0025\nEpoch 279/300\n20/20 [==============================] - 0s 18ms/step - loss: 0.0025\nEpoch 280/300\n20/20 [==============================] - 0s 17ms/step - loss: 0.0025\nEpoch 281/300\n20/20 [==============================] - 0s 17ms/step - loss: 0.0025\nEpoch 282/300\n20/20 [==============================] - 0s 20ms/step - loss: 0.0025\nEpoch 283/300\n20/20 [==============================] - 0s 20ms/step - loss: 0.0025\nEpoch 284/300\n20/20 [==============================] - 0s 21ms/step - loss: 0.0025\nEpoch 285/300\n20/20 [==============================] - 0s 18ms/step - loss: 0.0025\nEpoch 286/300\n20/20 [==============================] - 0s 18ms/step - loss: 0.0025\nEpoch 287/300\n20/20 [==============================] - 0s 22ms/step - loss: 0.0025\nEpoch 288/300\n20/20 [==============================] - 0s 18ms/step - loss: 0.0025\nEpoch 289/300\n20/20 [==============================] - 0s 17ms/step - loss: 0.0025\nEpoch 290/300\n20/20 [==============================] - 0s 19ms/step - loss: 0.0025\nEpoch 291/300\n20/20 [==============================] - 0s 17ms/step - loss: 0.0025\nEpoch 292/300\n20/20 [==============================] - 0s 17ms/step - loss: 0.0025\nEpoch 293/300\n20/20 [==============================] - 0s 19ms/step - loss: 0.0025\nEpoch 294/300\n20/20 [==============================] - 0s 17ms/step - loss: 0.0025\nEpoch 295/300\n20/20 [==============================] - 0s 17ms/step - loss: 0.0025\nEpoch 296/300\n20/20 [==============================] - 0s 19ms/step - loss: 0.0025\nEpoch 297/300\n20/20 [==============================] - 0s 17ms/step - loss: 0.0025\nEpoch 298/300\n20/20 [==============================] - 0s 17ms/step - loss: 0.0025\nEpoch 299/300\n20/20 [==============================] - 0s 19ms/step - loss: 0.0025\nEpoch 300/300\n20/20 [==============================] - 0s 17ms/step - loss: 0.0025\n"
    }
   ],
   "source": [
    "\n",
    "hist=model.fit(input, input, epochs=300, verbose=1)"
   ]
  },
  {
   "cell_type": "code",
   "execution_count": 30,
   "metadata": {},
   "outputs": [
    {
     "output_type": "execute_result",
     "data": {
      "text/plain": "[<matplotlib.lines.Line2D at 0x7fb58b22da90>]"
     },
     "metadata": {},
     "execution_count": 30
    },
    {
     "output_type": "display_data",
     "data": {
      "text/plain": "<Figure size 432x288 with 1 Axes>",
      "image/svg+xml": "<?xml version=\"1.0\" encoding=\"utf-8\" standalone=\"no\"?>\n<!DOCTYPE svg PUBLIC \"-//W3C//DTD SVG 1.1//EN\"\n  \"http://www.w3.org/Graphics/SVG/1.1/DTD/svg11.dtd\">\n<!-- Created with matplotlib (https://matplotlib.org/) -->\n<svg height=\"248.518125pt\" version=\"1.1\" viewBox=\"0 0 397.553125 248.518125\" width=\"397.553125pt\" xmlns=\"http://www.w3.org/2000/svg\" xmlns:xlink=\"http://www.w3.org/1999/xlink\">\n <defs>\n  <style type=\"text/css\">\n*{stroke-linecap:butt;stroke-linejoin:round;}\n  </style>\n </defs>\n <g id=\"figure_1\">\n  <g id=\"patch_1\">\n   <path d=\"M 0 248.518125 \nL 397.553125 248.518125 \nL 397.553125 0 \nL 0 0 \nz\n\" style=\"fill:none;\"/>\n  </g>\n  <g id=\"axes_1\">\n   <g id=\"patch_2\">\n    <path d=\"M 55.553125 224.64 \nL 390.353125 224.64 \nL 390.353125 7.2 \nL 55.553125 7.2 \nz\n\" style=\"fill:#ffffff;\"/>\n   </g>\n   <g id=\"matplotlib.axis_1\">\n    <g id=\"xtick_1\">\n     <g id=\"line2d_1\">\n      <defs>\n       <path d=\"M 0 0 \nL 0 3.5 \n\" id=\"mb6687617a3\" style=\"stroke:#000000;stroke-width:0.8;\"/>\n      </defs>\n      <g>\n       <use style=\"stroke:#000000;stroke-width:0.8;\" x=\"70.771307\" xlink:href=\"#mb6687617a3\" y=\"224.64\"/>\n      </g>\n     </g>\n     <g id=\"text_1\">\n      <!-- 0 -->\n      <defs>\n       <path d=\"M 31.78125 66.40625 \nQ 24.171875 66.40625 20.328125 58.90625 \nQ 16.5 51.421875 16.5 36.375 \nQ 16.5 21.390625 20.328125 13.890625 \nQ 24.171875 6.390625 31.78125 6.390625 \nQ 39.453125 6.390625 43.28125 13.890625 \nQ 47.125 21.390625 47.125 36.375 \nQ 47.125 51.421875 43.28125 58.90625 \nQ 39.453125 66.40625 31.78125 66.40625 \nz\nM 31.78125 74.21875 \nQ 44.046875 74.21875 50.515625 64.515625 \nQ 56.984375 54.828125 56.984375 36.375 \nQ 56.984375 17.96875 50.515625 8.265625 \nQ 44.046875 -1.421875 31.78125 -1.421875 \nQ 19.53125 -1.421875 13.0625 8.265625 \nQ 6.59375 17.96875 6.59375 36.375 \nQ 6.59375 54.828125 13.0625 64.515625 \nQ 19.53125 74.21875 31.78125 74.21875 \nz\n\" id=\"DejaVuSans-48\"/>\n      </defs>\n      <g transform=\"translate(67.590057 239.238438)scale(0.1 -0.1)\">\n       <use xlink:href=\"#DejaVuSans-48\"/>\n      </g>\n     </g>\n    </g>\n    <g id=\"xtick_2\">\n     <g id=\"line2d_2\">\n      <g>\n       <use style=\"stroke:#000000;stroke-width:0.8;\" x=\"121.668236\" xlink:href=\"#mb6687617a3\" y=\"224.64\"/>\n      </g>\n     </g>\n     <g id=\"text_2\">\n      <!-- 50 -->\n      <defs>\n       <path d=\"M 10.796875 72.90625 \nL 49.515625 72.90625 \nL 49.515625 64.59375 \nL 19.828125 64.59375 \nL 19.828125 46.734375 \nQ 21.96875 47.46875 24.109375 47.828125 \nQ 26.265625 48.1875 28.421875 48.1875 \nQ 40.625 48.1875 47.75 41.5 \nQ 54.890625 34.8125 54.890625 23.390625 \nQ 54.890625 11.625 47.5625 5.09375 \nQ 40.234375 -1.421875 26.90625 -1.421875 \nQ 22.3125 -1.421875 17.546875 -0.640625 \nQ 12.796875 0.140625 7.71875 1.703125 \nL 7.71875 11.625 \nQ 12.109375 9.234375 16.796875 8.0625 \nQ 21.484375 6.890625 26.703125 6.890625 \nQ 35.15625 6.890625 40.078125 11.328125 \nQ 45.015625 15.765625 45.015625 23.390625 \nQ 45.015625 31 40.078125 35.4375 \nQ 35.15625 39.890625 26.703125 39.890625 \nQ 22.75 39.890625 18.8125 39.015625 \nQ 14.890625 38.140625 10.796875 36.28125 \nz\n\" id=\"DejaVuSans-53\"/>\n      </defs>\n      <g transform=\"translate(115.305736 239.238438)scale(0.1 -0.1)\">\n       <use xlink:href=\"#DejaVuSans-53\"/>\n       <use x=\"63.623047\" xlink:href=\"#DejaVuSans-48\"/>\n      </g>\n     </g>\n    </g>\n    <g id=\"xtick_3\">\n     <g id=\"line2d_3\">\n      <g>\n       <use style=\"stroke:#000000;stroke-width:0.8;\" x=\"172.565165\" xlink:href=\"#mb6687617a3\" y=\"224.64\"/>\n      </g>\n     </g>\n     <g id=\"text_3\">\n      <!-- 100 -->\n      <defs>\n       <path d=\"M 12.40625 8.296875 \nL 28.515625 8.296875 \nL 28.515625 63.921875 \nL 10.984375 60.40625 \nL 10.984375 69.390625 \nL 28.421875 72.90625 \nL 38.28125 72.90625 \nL 38.28125 8.296875 \nL 54.390625 8.296875 \nL 54.390625 0 \nL 12.40625 0 \nz\n\" id=\"DejaVuSans-49\"/>\n      </defs>\n      <g transform=\"translate(163.021415 239.238438)scale(0.1 -0.1)\">\n       <use xlink:href=\"#DejaVuSans-49\"/>\n       <use x=\"63.623047\" xlink:href=\"#DejaVuSans-48\"/>\n       <use x=\"127.246094\" xlink:href=\"#DejaVuSans-48\"/>\n      </g>\n     </g>\n    </g>\n    <g id=\"xtick_4\">\n     <g id=\"line2d_4\">\n      <g>\n       <use style=\"stroke:#000000;stroke-width:0.8;\" x=\"223.462094\" xlink:href=\"#mb6687617a3\" y=\"224.64\"/>\n      </g>\n     </g>\n     <g id=\"text_4\">\n      <!-- 150 -->\n      <g transform=\"translate(213.918344 239.238438)scale(0.1 -0.1)\">\n       <use xlink:href=\"#DejaVuSans-49\"/>\n       <use x=\"63.623047\" xlink:href=\"#DejaVuSans-53\"/>\n       <use x=\"127.246094\" xlink:href=\"#DejaVuSans-48\"/>\n      </g>\n     </g>\n    </g>\n    <g id=\"xtick_5\">\n     <g id=\"line2d_5\">\n      <g>\n       <use style=\"stroke:#000000;stroke-width:0.8;\" x=\"274.359023\" xlink:href=\"#mb6687617a3\" y=\"224.64\"/>\n      </g>\n     </g>\n     <g id=\"text_5\">\n      <!-- 200 -->\n      <defs>\n       <path d=\"M 19.1875 8.296875 \nL 53.609375 8.296875 \nL 53.609375 0 \nL 7.328125 0 \nL 7.328125 8.296875 \nQ 12.9375 14.109375 22.625 23.890625 \nQ 32.328125 33.6875 34.8125 36.53125 \nQ 39.546875 41.84375 41.421875 45.53125 \nQ 43.3125 49.21875 43.3125 52.78125 \nQ 43.3125 58.59375 39.234375 62.25 \nQ 35.15625 65.921875 28.609375 65.921875 \nQ 23.96875 65.921875 18.8125 64.3125 \nQ 13.671875 62.703125 7.8125 59.421875 \nL 7.8125 69.390625 \nQ 13.765625 71.78125 18.9375 73 \nQ 24.125 74.21875 28.421875 74.21875 \nQ 39.75 74.21875 46.484375 68.546875 \nQ 53.21875 62.890625 53.21875 53.421875 \nQ 53.21875 48.921875 51.53125 44.890625 \nQ 49.859375 40.875 45.40625 35.40625 \nQ 44.1875 33.984375 37.640625 27.21875 \nQ 31.109375 20.453125 19.1875 8.296875 \nz\n\" id=\"DejaVuSans-50\"/>\n      </defs>\n      <g transform=\"translate(264.815273 239.238438)scale(0.1 -0.1)\">\n       <use xlink:href=\"#DejaVuSans-50\"/>\n       <use x=\"63.623047\" xlink:href=\"#DejaVuSans-48\"/>\n       <use x=\"127.246094\" xlink:href=\"#DejaVuSans-48\"/>\n      </g>\n     </g>\n    </g>\n    <g id=\"xtick_6\">\n     <g id=\"line2d_6\">\n      <g>\n       <use style=\"stroke:#000000;stroke-width:0.8;\" x=\"325.255953\" xlink:href=\"#mb6687617a3\" y=\"224.64\"/>\n      </g>\n     </g>\n     <g id=\"text_6\">\n      <!-- 250 -->\n      <g transform=\"translate(315.712203 239.238438)scale(0.1 -0.1)\">\n       <use xlink:href=\"#DejaVuSans-50\"/>\n       <use x=\"63.623047\" xlink:href=\"#DejaVuSans-53\"/>\n       <use x=\"127.246094\" xlink:href=\"#DejaVuSans-48\"/>\n      </g>\n     </g>\n    </g>\n    <g id=\"xtick_7\">\n     <g id=\"line2d_7\">\n      <g>\n       <use style=\"stroke:#000000;stroke-width:0.8;\" x=\"376.152882\" xlink:href=\"#mb6687617a3\" y=\"224.64\"/>\n      </g>\n     </g>\n     <g id=\"text_7\">\n      <!-- 300 -->\n      <defs>\n       <path d=\"M 40.578125 39.3125 \nQ 47.65625 37.796875 51.625 33 \nQ 55.609375 28.21875 55.609375 21.1875 \nQ 55.609375 10.40625 48.1875 4.484375 \nQ 40.765625 -1.421875 27.09375 -1.421875 \nQ 22.515625 -1.421875 17.65625 -0.515625 \nQ 12.796875 0.390625 7.625 2.203125 \nL 7.625 11.71875 \nQ 11.71875 9.328125 16.59375 8.109375 \nQ 21.484375 6.890625 26.8125 6.890625 \nQ 36.078125 6.890625 40.9375 10.546875 \nQ 45.796875 14.203125 45.796875 21.1875 \nQ 45.796875 27.640625 41.28125 31.265625 \nQ 36.765625 34.90625 28.71875 34.90625 \nL 20.21875 34.90625 \nL 20.21875 43.015625 \nL 29.109375 43.015625 \nQ 36.375 43.015625 40.234375 45.921875 \nQ 44.09375 48.828125 44.09375 54.296875 \nQ 44.09375 59.90625 40.109375 62.90625 \nQ 36.140625 65.921875 28.71875 65.921875 \nQ 24.65625 65.921875 20.015625 65.03125 \nQ 15.375 64.15625 9.8125 62.3125 \nL 9.8125 71.09375 \nQ 15.4375 72.65625 20.34375 73.4375 \nQ 25.25 74.21875 29.59375 74.21875 \nQ 40.828125 74.21875 47.359375 69.109375 \nQ 53.90625 64.015625 53.90625 55.328125 \nQ 53.90625 49.265625 50.4375 45.09375 \nQ 46.96875 40.921875 40.578125 39.3125 \nz\n\" id=\"DejaVuSans-51\"/>\n      </defs>\n      <g transform=\"translate(366.609132 239.238438)scale(0.1 -0.1)\">\n       <use xlink:href=\"#DejaVuSans-51\"/>\n       <use x=\"63.623047\" xlink:href=\"#DejaVuSans-48\"/>\n       <use x=\"127.246094\" xlink:href=\"#DejaVuSans-48\"/>\n      </g>\n     </g>\n    </g>\n   </g>\n   <g id=\"matplotlib.axis_2\">\n    <g id=\"ytick_1\">\n     <g id=\"line2d_8\">\n      <defs>\n       <path d=\"M 0 0 \nL -3.5 0 \n\" id=\"mf89ecc2c94\" style=\"stroke:#000000;stroke-width:0.8;\"/>\n      </defs>\n      <g>\n       <use style=\"stroke:#000000;stroke-width:0.8;\" x=\"55.553125\" xlink:href=\"#mf89ecc2c94\" y=\"210.287548\"/>\n      </g>\n     </g>\n     <g id=\"text_8\">\n      <!-- 0.00250 -->\n      <defs>\n       <path d=\"M 10.6875 12.40625 \nL 21 12.40625 \nL 21 0 \nL 10.6875 0 \nz\n\" id=\"DejaVuSans-46\"/>\n      </defs>\n      <g transform=\"translate(7.2 214.086767)scale(0.1 -0.1)\">\n       <use xlink:href=\"#DejaVuSans-48\"/>\n       <use x=\"63.623047\" xlink:href=\"#DejaVuSans-46\"/>\n       <use x=\"95.410156\" xlink:href=\"#DejaVuSans-48\"/>\n       <use x=\"159.033203\" xlink:href=\"#DejaVuSans-48\"/>\n       <use x=\"222.65625\" xlink:href=\"#DejaVuSans-50\"/>\n       <use x=\"286.279297\" xlink:href=\"#DejaVuSans-53\"/>\n       <use x=\"349.902344\" xlink:href=\"#DejaVuSans-48\"/>\n      </g>\n     </g>\n    </g>\n    <g id=\"ytick_2\">\n     <g id=\"line2d_9\">\n      <g>\n       <use style=\"stroke:#000000;stroke-width:0.8;\" x=\"55.553125\" xlink:href=\"#mf89ecc2c94\" y=\"180.320355\"/>\n      </g>\n     </g>\n     <g id=\"text_9\">\n      <!-- 0.00275 -->\n      <defs>\n       <path d=\"M 8.203125 72.90625 \nL 55.078125 72.90625 \nL 55.078125 68.703125 \nL 28.609375 0 \nL 18.3125 0 \nL 43.21875 64.59375 \nL 8.203125 64.59375 \nz\n\" id=\"DejaVuSans-55\"/>\n      </defs>\n      <g transform=\"translate(7.2 184.119574)scale(0.1 -0.1)\">\n       <use xlink:href=\"#DejaVuSans-48\"/>\n       <use x=\"63.623047\" xlink:href=\"#DejaVuSans-46\"/>\n       <use x=\"95.410156\" xlink:href=\"#DejaVuSans-48\"/>\n       <use x=\"159.033203\" xlink:href=\"#DejaVuSans-48\"/>\n       <use x=\"222.65625\" xlink:href=\"#DejaVuSans-50\"/>\n       <use x=\"286.279297\" xlink:href=\"#DejaVuSans-55\"/>\n       <use x=\"349.902344\" xlink:href=\"#DejaVuSans-53\"/>\n      </g>\n     </g>\n    </g>\n    <g id=\"ytick_3\">\n     <g id=\"line2d_10\">\n      <g>\n       <use style=\"stroke:#000000;stroke-width:0.8;\" x=\"55.553125\" xlink:href=\"#mf89ecc2c94\" y=\"150.353163\"/>\n      </g>\n     </g>\n     <g id=\"text_10\">\n      <!-- 0.00300 -->\n      <g transform=\"translate(7.2 154.152382)scale(0.1 -0.1)\">\n       <use xlink:href=\"#DejaVuSans-48\"/>\n       <use x=\"63.623047\" xlink:href=\"#DejaVuSans-46\"/>\n       <use x=\"95.410156\" xlink:href=\"#DejaVuSans-48\"/>\n       <use x=\"159.033203\" xlink:href=\"#DejaVuSans-48\"/>\n       <use x=\"222.65625\" xlink:href=\"#DejaVuSans-51\"/>\n       <use x=\"286.279297\" xlink:href=\"#DejaVuSans-48\"/>\n       <use x=\"349.902344\" xlink:href=\"#DejaVuSans-48\"/>\n      </g>\n     </g>\n    </g>\n    <g id=\"ytick_4\">\n     <g id=\"line2d_11\">\n      <g>\n       <use style=\"stroke:#000000;stroke-width:0.8;\" x=\"55.553125\" xlink:href=\"#mf89ecc2c94\" y=\"120.38597\"/>\n      </g>\n     </g>\n     <g id=\"text_11\">\n      <!-- 0.00325 -->\n      <g transform=\"translate(7.2 124.185189)scale(0.1 -0.1)\">\n       <use xlink:href=\"#DejaVuSans-48\"/>\n       <use x=\"63.623047\" xlink:href=\"#DejaVuSans-46\"/>\n       <use x=\"95.410156\" xlink:href=\"#DejaVuSans-48\"/>\n       <use x=\"159.033203\" xlink:href=\"#DejaVuSans-48\"/>\n       <use x=\"222.65625\" xlink:href=\"#DejaVuSans-51\"/>\n       <use x=\"286.279297\" xlink:href=\"#DejaVuSans-50\"/>\n       <use x=\"349.902344\" xlink:href=\"#DejaVuSans-53\"/>\n      </g>\n     </g>\n    </g>\n    <g id=\"ytick_5\">\n     <g id=\"line2d_12\">\n      <g>\n       <use style=\"stroke:#000000;stroke-width:0.8;\" x=\"55.553125\" xlink:href=\"#mf89ecc2c94\" y=\"90.418777\"/>\n      </g>\n     </g>\n     <g id=\"text_12\">\n      <!-- 0.00350 -->\n      <g transform=\"translate(7.2 94.217996)scale(0.1 -0.1)\">\n       <use xlink:href=\"#DejaVuSans-48\"/>\n       <use x=\"63.623047\" xlink:href=\"#DejaVuSans-46\"/>\n       <use x=\"95.410156\" xlink:href=\"#DejaVuSans-48\"/>\n       <use x=\"159.033203\" xlink:href=\"#DejaVuSans-48\"/>\n       <use x=\"222.65625\" xlink:href=\"#DejaVuSans-51\"/>\n       <use x=\"286.279297\" xlink:href=\"#DejaVuSans-53\"/>\n       <use x=\"349.902344\" xlink:href=\"#DejaVuSans-48\"/>\n      </g>\n     </g>\n    </g>\n    <g id=\"ytick_6\">\n     <g id=\"line2d_13\">\n      <g>\n       <use style=\"stroke:#000000;stroke-width:0.8;\" x=\"55.553125\" xlink:href=\"#mf89ecc2c94\" y=\"60.451585\"/>\n      </g>\n     </g>\n     <g id=\"text_13\">\n      <!-- 0.00375 -->\n      <g transform=\"translate(7.2 64.250803)scale(0.1 -0.1)\">\n       <use xlink:href=\"#DejaVuSans-48\"/>\n       <use x=\"63.623047\" xlink:href=\"#DejaVuSans-46\"/>\n       <use x=\"95.410156\" xlink:href=\"#DejaVuSans-48\"/>\n       <use x=\"159.033203\" xlink:href=\"#DejaVuSans-48\"/>\n       <use x=\"222.65625\" xlink:href=\"#DejaVuSans-51\"/>\n       <use x=\"286.279297\" xlink:href=\"#DejaVuSans-55\"/>\n       <use x=\"349.902344\" xlink:href=\"#DejaVuSans-53\"/>\n      </g>\n     </g>\n    </g>\n    <g id=\"ytick_7\">\n     <g id=\"line2d_14\">\n      <g>\n       <use style=\"stroke:#000000;stroke-width:0.8;\" x=\"55.553125\" xlink:href=\"#mf89ecc2c94\" y=\"30.484392\"/>\n      </g>\n     </g>\n     <g id=\"text_14\">\n      <!-- 0.00400 -->\n      <defs>\n       <path d=\"M 37.796875 64.3125 \nL 12.890625 25.390625 \nL 37.796875 25.390625 \nz\nM 35.203125 72.90625 \nL 47.609375 72.90625 \nL 47.609375 25.390625 \nL 58.015625 25.390625 \nL 58.015625 17.1875 \nL 47.609375 17.1875 \nL 47.609375 0 \nL 37.796875 0 \nL 37.796875 17.1875 \nL 4.890625 17.1875 \nL 4.890625 26.703125 \nz\n\" id=\"DejaVuSans-52\"/>\n      </defs>\n      <g transform=\"translate(7.2 34.283611)scale(0.1 -0.1)\">\n       <use xlink:href=\"#DejaVuSans-48\"/>\n       <use x=\"63.623047\" xlink:href=\"#DejaVuSans-46\"/>\n       <use x=\"95.410156\" xlink:href=\"#DejaVuSans-48\"/>\n       <use x=\"159.033203\" xlink:href=\"#DejaVuSans-48\"/>\n       <use x=\"222.65625\" xlink:href=\"#DejaVuSans-52\"/>\n       <use x=\"286.279297\" xlink:href=\"#DejaVuSans-48\"/>\n       <use x=\"349.902344\" xlink:href=\"#DejaVuSans-48\"/>\n      </g>\n     </g>\n    </g>\n   </g>\n   <g id=\"line2d_15\">\n    <path clip-path=\"url(#pfa1521172a)\" d=\"M 70.771307 17.083636 \nL 71.789245 45.861403 \nL 72.807184 70.676856 \nL 73.825123 91.898088 \nL 74.843061 109.930925 \nL 75.861 125.186694 \nL 76.878938 137.967426 \nL 77.896877 148.550928 \nL 78.914815 157.285088 \nL 79.932754 164.561666 \nL 80.950693 170.661038 \nL 81.968631 175.678958 \nL 82.98657 179.852014 \nL 84.004508 183.324523 \nL 85.022447 186.158974 \nL 86.040386 188.521593 \nL 87.058324 190.470542 \nL 89.094201 193.528964 \nL 90.11214 194.811388 \nL 91.130078 195.889685 \nL 93.165956 197.567805 \nL 95.201833 198.815398 \nL 100.291526 201.341816 \nL 108.435034 205.111613 \nL 112.506789 206.708433 \nL 116.578543 208.034061 \nL 120.650297 209.091174 \nL 124.722052 209.924011 \nL 129.811745 210.723747 \nL 135.919376 211.433643 \nL 143.044946 212.021884 \nL 152.206393 212.513503 \nL 167.475472 213.054382 \nL 185.798367 213.5009 \nL 212.26477 213.88906 \nL 257.054068 214.285453 \nL 337.471216 214.670097 \nL 375.134943 214.756364 \nL 375.134943 214.756364 \n\" style=\"fill:none;stroke:#1f77b4;stroke-linecap:square;stroke-width:1.5;\"/>\n   </g>\n   <g id=\"patch_3\">\n    <path d=\"M 55.553125 224.64 \nL 55.553125 7.2 \n\" style=\"fill:none;stroke:#000000;stroke-linecap:square;stroke-linejoin:miter;stroke-width:0.8;\"/>\n   </g>\n   <g id=\"patch_4\">\n    <path d=\"M 390.353125 224.64 \nL 390.353125 7.2 \n\" style=\"fill:none;stroke:#000000;stroke-linecap:square;stroke-linejoin:miter;stroke-width:0.8;\"/>\n   </g>\n   <g id=\"patch_5\">\n    <path d=\"M 55.553125 224.64 \nL 390.353125 224.64 \n\" style=\"fill:none;stroke:#000000;stroke-linecap:square;stroke-linejoin:miter;stroke-width:0.8;\"/>\n   </g>\n   <g id=\"patch_6\">\n    <path d=\"M 55.553125 7.2 \nL 390.353125 7.2 \n\" style=\"fill:none;stroke:#000000;stroke-linecap:square;stroke-linejoin:miter;stroke-width:0.8;\"/>\n   </g>\n  </g>\n </g>\n <defs>\n  <clipPath id=\"pfa1521172a\">\n   <rect height=\"217.44\" width=\"334.8\" x=\"55.553125\" y=\"7.2\"/>\n  </clipPath>\n </defs>\n</svg>\n",
      "image/png": "[encoded data removed]"
     },
     "metadata": {
      "needs_background": "light"
     }
    }
   ],
   "source": [
    "\n",
    "plt.plot(hist.history['loss'])"
   ]
  },
  {
   "cell_type": "markdown",
   "metadata": {},
   "source": [
    "# Learning the Embedding"
   ]
  },
  {
   "cell_type": "markdown",
   "metadata": {},
   "source": [
    "### just the encoder"
   ]
  },
  {
   "cell_type": "code",
   "execution_count": 33,
   "metadata": {},
   "outputs": [
    {
     "output_type": "stream",
     "name": "stdout",
     "text": "Model: \"model_5\"\n_________________________________________________________________\nLayer (type)                 Output Shape              Param #   \n=================================================================\nsequential_3_input (InputLay (None, 400, 13)           0         \n_________________________________________________________________\nbidirectional_1 (Bidirection (None, 20)                1920      \n=================================================================\nTotal params: 1,920\nTrainable params: 1,920\nNon-trainable params: 0\n_________________________________________________________________\n"
    }
   ],
   "source": [
    "from keras.models import Model\n",
    "from keras.utils import plot_model\n",
    "modelEnc = Model(inputs=model.inputs, outputs=model.layers[0].output)\n",
    "modelEnc.summary()"
   ]
  },
  {
   "cell_type": "code",
   "execution_count": 34,
   "metadata": {},
   "outputs": [],
   "source": [
    "Embedding=modelEnc.predict(input[0][np.newaxis, :])"
   ]
  },
  {
   "cell_type": "code",
   "execution_count": 35,
   "metadata": {},
   "outputs": [
    {
     "output_type": "stream",
     "name": "stdout",
     "text": "Embedding\n[[0.0000000e+00 0.0000000e+00 0.0000000e+00 0.0000000e+00 0.0000000e+00\n  0.0000000e+00 6.1438721e-02 4.8216853e-02 3.2973543e-02 1.2662034e-02\n  1.0890242e-04 1.3286400e-03 3.8085844e-02 3.7307430e-02 1.4051166e-01\n  1.4295121e-01 1.5703378e-02 2.5930414e-01 4.2721890e-03 1.2990151e-08]]\n"
    }
   ],
   "source": [
    "print('Embedding')\n",
    "print(Embedding)"
   ]
  },
  {
   "cell_type": "code",
   "execution_count": 2,
   "metadata": {},
   "outputs": [],
   "source": [
    "import re\n",
    "import numpy as np\n",
    "\n",
    "def tokenize(text):\n",
    "    # obtains tokens with a least 1 alphabet\n",
    "    pattern = re.compile(r'[A-Za-z]+[\\w^\\']*|[\\w^\\']*[A-Za-z]+[\\w^\\']*')\n",
    "    return pattern.findall(text.lower())\n",
    "\n",
    "def mapping(tokens):\n",
    "    word_to_id = dict()\n",
    "    id_to_word = dict()\n",
    "\n",
    "    for i, token in enumerate(set(tokens)):\n",
    "        word_to_id[token] = i\n",
    "        id_to_word[i] = token\n",
    "\n",
    "    return word_to_id, id_to_word\n",
    "\n",
    "def generate_training_data(tokens, window_size):\n",
    "    N = len(tokens)\n",
    "    X, Y = [], []\n",
    "\n",
    "    for i in range(N):\n",
    "        nbr_inds = list(range(max(0, i - window_size), i)) + \\\n",
    "                   list(range(i + 1, min(N, i + window_size + 1)))\n",
    "        for j in nbr_inds:\n",
    "            X.append(tokens[i])\n",
    "            Y.append(tokens[j])\n",
    "            \n",
    "    X = np.array(X)\n",
    "    X = np.expand_dims(X, axis=0)\n",
    "    Y = np.array(Y)\n",
    "    Y = np.expand_dims(Y, axis=0)\n",
    "\n",
    "    return X, Y\n",
    "\n",
    "\n",
    "doc = \"After the deduction of the costs of investing, \" \\\n",
    "      \"beating the stock market is a loser's game.\"\n",
    "tokens = tokenize(doc)\n",
    "\n",
    "X, Y = generate_training_data(tokens, 3)\n"
   ]
  },
  {
   "cell_type": "code",
   "execution_count": 3,
   "metadata": {},
   "outputs": [
    {
     "output_type": "execute_result",
     "data": {
      "text/plain": "array([['after', 'after', 'after', 'the', 'the', 'the', 'the',\n        'deduction', 'deduction', 'deduction', 'deduction', 'deduction',\n        'of', 'of', 'of', 'of', 'of', 'of', 'the', 'the', 'the', 'the',\n        'the', 'the', 'costs', 'costs', 'costs', 'costs', 'costs',\n        'costs', 'of', 'of', 'of', 'of', 'of', 'of', 'investing',\n        'investing', 'investing', 'investing', 'investing', 'investing',\n        'beating', 'beating', 'beating', 'beating', 'beating', 'beating',\n        'the', 'the', 'the', 'the', 'the', 'the', 'stock', 'stock',\n        'stock', 'stock', 'stock', 'stock', 'market', 'market', 'market',\n        'market', 'market', 'market', 'is', 'is', 'is', 'is', 'is', 'is',\n        'a', 'a', 'a', 'a', 'a', \"loser's\", \"loser's\", \"loser's\",\n        \"loser's\", 'game', 'game', 'game']], dtype='<U9')"
     },
     "metadata": {},
     "execution_count": 3
    }
   ],
   "source": [
    "X"
   ]
  },
  {
   "cell_type": "code",
   "execution_count": 4,
   "metadata": {},
   "outputs": [
    {
     "output_type": "execute_result",
     "data": {
      "text/plain": "array([['the', 'deduction', 'of', 'after', 'deduction', 'of', 'the',\n        'after', 'the', 'of', 'the', 'costs', 'after', 'the',\n        'deduction', 'the', 'costs', 'of', 'the', 'deduction', 'of',\n        'costs', 'of', 'investing', 'deduction', 'of', 'the', 'of',\n        'investing', 'beating', 'of', 'the', 'costs', 'investing',\n        'beating', 'the', 'the', 'costs', 'of', 'beating', 'the',\n        'stock', 'costs', 'of', 'investing', 'the', 'stock', 'market',\n        'of', 'investing', 'beating', 'stock', 'market', 'is',\n        'investing', 'beating', 'the', 'market', 'is', 'a', 'beating',\n        'the', 'stock', 'is', 'a', \"loser's\", 'the', 'stock', 'market',\n        'a', \"loser's\", 'game', 'stock', 'market', 'is', \"loser's\",\n        'game', 'market', 'is', 'a', 'game', 'is', 'a', \"loser's\"]],\n      dtype='<U9')"
     },
     "metadata": {},
     "execution_count": 4
    }
   ],
   "source": [
    "Y"
   ]
  },
  {
   "cell_type": "code",
   "execution_count": null,
   "metadata": {},
   "outputs": [],
   "source": []
  }
 ],
 "metadata": {
  "language_info": {
   "codemirror_mode": {
    "name": "ipython",
    "version": 3
   },
   "file_extension": ".py",
   "mimetype": "text/x-python",
   "name": "python",
   "nbconvert_exporter": "python",
   "pygments_lexer": "ipython3",
   "version": "3.7.6-final"
  },
  "orig_nbformat": 2,
  "kernelspec": {
   "name": "python37664bitb225f4bd86994289a4055ad484dc0491",
   "display_name": "Python 3.7.6 64-bit"
  }
 },
 "nbformat": 4,
 "nbformat_minor": 2
}