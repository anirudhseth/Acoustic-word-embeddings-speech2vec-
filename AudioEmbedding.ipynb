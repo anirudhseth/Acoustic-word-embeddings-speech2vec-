{
 "cells": [
  {
   "cell_type": "code",
   "execution_count": 8,
   "metadata": {},
   "outputs": [],
   "source": [
    "import torchaudio\n",
    "\n",
    "train_dataset = torchaudio.datasets.LIBRISPEECH(\"./\", url=\"dev-clean\", download=False)\n",
    "test_dataset = torchaudio.datasets.LIBRISPEECH(\"./\", url=\"test-clean\", download=False)"
   ]
  },
  {
   "cell_type": "code",
   "execution_count": 78,
   "metadata": {},
   "outputs": [
    {
     "output_type": "execute_result",
     "data": {
      "text/plain": "2703"
     },
     "metadata": {},
     "execution_count": 78
    }
   ],
   "source": [
    "len(train_dataset)"
   ]
  },
  {
   "cell_type": "code",
   "execution_count": 127,
   "metadata": {},
   "outputs": [],
   "source": [
    "import torch.nn as nn\n",
    "import torch as torch\n",
    "\n",
    "\n",
    "mfcc_transform = torchaudio.transforms.MFCC(sample_rate=16000,n_mfcc=13)\n",
    "def data_processing(data,):\n",
    "    spectrograms = []\n",
    "    mfcc=[]\n",
    "    labels=[]\n",
    "    input_lengths = []\n",
    "    for (waveform, _,ll, _, _, _) in data:\n",
    "        mfcc.append(mfcc_transform(waveform).squeeze(0).transpose(0, 1))\n",
    "        labels.append(ll.lower())\n",
    "    mfcc = nn.utils.rnn.pad_sequence(mfcc, batch_first=True,zwe)\n",
    "    return mfcc,labels"
   ]
  },
  {
   "cell_type": "code",
   "execution_count": 128,
   "metadata": {},
   "outputs": [],
   "source": [
    "mfcc,text=data_processing(train_dataset)"
   ]
  },
  {
   "cell_type": "code",
   "execution_count": 130,
   "metadata": {},
   "outputs": [
    {
     "output_type": "execute_result",
     "data": {
      "text/plain": "2703"
     },
     "metadata": {},
     "execution_count": 130
    }
   ],
   "source": [
    "len(text)"
   ]
  },
  {
   "cell_type": "code",
   "execution_count": 131,
   "metadata": {},
   "outputs": [
    {
     "output_type": "execute_result",
     "data": {
      "text/plain": "torch.Size([2703, 2612, 13])"
     },
     "metadata": {},
     "execution_count": 131
    }
   ],
   "source": [
    "mfcc.shape"
   ]
  },
  {
   "cell_type": "code",
   "execution_count": 172,
   "metadata": {},
   "outputs": [],
   "source": [
    "torch.save(mfcc, 'Mfcc_features.pt')\n",
    "torch.save(text,'Labels.pt')\n",
    "# torch.load('Mfcc_features.pt')"
   ]
  },
  {
   "cell_type": "code",
   "execution_count": null,
   "metadata": {},
   "outputs": [],
   "source": []
  }
 ],
 "metadata": {
  "language_info": {
   "codemirror_mode": {
    "name": "ipython",
    "version": 3
   },
   "file_extension": ".py",
   "mimetype": "text/x-python",
   "name": "python",
   "nbconvert_exporter": "python",
   "pygments_lexer": "ipython3",
   "version": "3.6.9-final"
  },
  "orig_nbformat": 2,
  "kernelspec": {
   "name": "python36964bit4dfc7929655c4c7cbc725bd732c1ed4a",
   "display_name": "Python 3.6.9 64-bit"
  }
 },
 "nbformat": 4,
 "nbformat_minor": 2
}